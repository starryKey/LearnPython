{
 "cells": [
  {
   "cell_type": "markdown",
   "metadata": {},
   "source": [
    "# 内置数据结构（变量类型）\n",
    " - list\n",
    " - set\n",
    " - dict\n",
    " - tuple\n",
    " \n",
    " \n",
    "## list(列表)\n",
    " - 一组有顺序的数据的组合\n",
    " - 创建列表\n",
    "     - 空列表"
   ]
  },
  {
   "cell_type": "code",
   "execution_count": 5,
   "metadata": {},
   "outputs": [
    {
     "name": "stdout",
     "output_type": "stream",
     "text": [
      "[]\n",
      "<class 'list'>\n",
      "['hello', 'hi']\n",
      "[]\n"
     ]
    }
   ],
   "source": [
    "# list 列表\n",
    "#1、创建空列表\n",
    "l1 = []\n",
    "print(l1)\n",
    "print(type(l1))\n",
    "#2、创建带值的列表\n",
    "l2 = [\"hello\",\"hi\"]\n",
    "print(l2)\n",
    "#3 、使用list()\n",
    "\n",
    "l3 = list()\n",
    "print(l3)"
   ]
  },
  {
   "cell_type": "markdown",
   "metadata": {},
   "source": [
    "## 列表常见操作\n",
    "- 访问\n",
    "    - 使用下标操作(索引)\n",
    "    - 列表的访问是从下标从0开始\n",
    "    - 不能越界访问\n",
    "    \n",
    "- 分片操作\n",
    "     - 对列表进行任意一段的截取\n",
    "     - list1[:] ,包含下标左边的，不包含下标右边的\n",
    "     - 下标值可以为空，如果不写，左边下标值默认为0，右边下标值为最大个数+1，即为最后一个值\n",
    "     - 可以控制片的增长幅度"
   ]
  },
  {
   "cell_type": "code",
   "execution_count": 10,
   "metadata": {},
   "outputs": [
    {
     "name": "stdout",
     "output_type": "stream",
     "text": [
      "[1, 2, 3, 4, 5]\n",
      "3\n"
     ]
    }
   ],
   "source": [
    "# 使用下标访问列表\n",
    "list1 = [1,2,3,4,5]\n",
    "\n",
    "print(list1)\n",
    "print(list1[2])"
   ]
  },
  {
   "cell_type": "code",
   "execution_count": 21,
   "metadata": {},
   "outputs": [
    {
     "name": "stdout",
     "output_type": "stream",
     "text": [
      "[2, 3]\n",
      "[2, 3, 4]\n",
      "[2, 5, 8]\n",
      "[6]\n"
     ]
    }
   ],
   "source": [
    "# 分片操作\n",
    "list1 = [1,2,3,4,5,6,7,8,9]\n",
    "print(list1[1:3])\n",
    "# 控制片的增长幅度,默认增长幅度为1\n",
    " \n",
    "print(list1[1:4:1])\n",
    "\n",
    "print(list1[1:8:3])\n",
    "# 下标可以超出范围，超出后不在考虑多余下标内容\n",
    "#下标可以为负数，为负表示从右往左\n",
    "#规定：数组最后一个数字的下标是-1\n",
    "#正常情况下，分片左边的值一定小于右边的值\n",
    "#如果分片一定左边值比右边值大，则步长参数需要使用负数\n",
    "\n",
    "print(list1[-4:-2:2])\n",
    "\n",
    "    "
   ]
  },
  {
   "cell_type": "markdown",
   "metadata": {},
   "source": [
    "## 分片操作生成一个新的list\n",
    " - 内置函数id,负责显示一个变量或者数据唯一确定编号"
   ]
  },
  {
   "cell_type": "code",
   "execution_count": 34,
   "metadata": {},
   "outputs": [
    {
     "name": "stdout",
     "output_type": "stream",
     "text": [
      "4404478112\n",
      "4404481312\n",
      "4404478112\n",
      "4404478112\n",
      "111\n",
      "100\n",
      "4440292688\n",
      "4440292688\n",
      "test2\n",
      "test2\n",
      "********************\n",
      "test2\n",
      "test3\n"
     ]
    }
   ],
   "source": [
    "# id 函数举例\n",
    "a = 100\n",
    "b = 200\n",
    "print(id(a))\n",
    "print(id(b))\n",
    "c = a\n",
    "print(id(a))\n",
    "print(id(c))\n",
    "\n",
    "a = 111\n",
    "print(a)\n",
    "print(c)\n",
    "\n",
    "#思考，如果g 和 f 为同一个值，为什么f更改了后,g的值未更改？\n",
    "e = \"test1\"\n",
    "f = \"test2\"\n",
    "g = f\n",
    "print(id(g))\n",
    "print(id(f))\n",
    "\n",
    "print(g)\n",
    "print(f)\n",
    "\n",
    "f = \"test3\"\n",
    "print(\"*\" * 20)\n",
    "\n",
    "print(g)\n",
    "print(f)\n"
   ]
  },
  {
   "cell_type": "code",
   "execution_count": 32,
   "metadata": {},
   "outputs": [
    {
     "name": "stdout",
     "output_type": "stream",
     "text": [
      "4440632136\n",
      "4440632776\n",
      "4440632776\n",
      "[1, 2, 3, 4, 5, 6]\n",
      "[1, 2, 3, 4, 5, 6]\n",
      "[1, 2, 3, 4, 5, 6]\n",
      "[1, 2, 100, 4, 5, 6]\n",
      "[1, 2, 100, 4, 5, 6]\n"
     ]
    }
   ],
   "source": [
    "# 通过id可以直接判断出分片是重新生成了一份数据还是使用的同一份数据\n",
    "\n",
    "list1 = [1,2,3,4,5,6]\n",
    "list2 = list1[:]\n",
    "list3 = list2\n",
    "\n",
    "print(id(list1))\n",
    "print(id(list2))\n",
    "print(id(list3))\n",
    "\n",
    "# 通过id 知道list2和list3为同一份数据\n",
    "\n",
    "print(list1)\n",
    "print(list2)\n",
    "print(list3)\n",
    "\n",
    "list2[2] = 100\n",
    "print(list2)\n",
    "print(list3)\n",
    "\n"
   ]
  },
  {
   "cell_type": "code",
   "execution_count": 77,
   "metadata": {},
   "outputs": [
    {
     "name": "stdout",
     "output_type": "stream",
     "text": [
      "A ---> C\n",
      "A ---> B\n",
      "C ---> B\n",
      "A ---> C\n",
      "B ---> A\n",
      "B ---> C\n",
      "A ---> C\n"
     ]
    }
   ],
   "source": [
    "#汉诺塔\n",
    "def hano(n, a, b, c):\n",
    "    \n",
    "    '''\n",
    "    规则：每次挪一个盘子，大盘子必须在小盘子下面\n",
    "    \n",
    "    汉诺塔的递归实现\n",
    "    n代表几个盘子\n",
    "    a:代表第一个塔，开始的\n",
    "    b:代表第二个塔，中间的\n",
    "    c:代表第三个塔，目标塔\n",
    "    \n",
    "    '''\n",
    "    \n",
    "    if n == 1:\n",
    "        print(a, \"--->\", c)\n",
    "        return None\n",
    "    \n",
    "    if  n == 2:\n",
    "        print(a, \"--->\", b)\n",
    "        print(a, \"--->\", c)\n",
    "        print(b, \"--->\", c)\n",
    "        return None\n",
    "        \n",
    "    hano(n-1, a, c ,b)\n",
    "    print(a, \"--->\", c)\n",
    "    hano(n-1, b, a, c)\n",
    "\n",
    "        \n",
    "a = \"A\"\n",
    "b = \"B\"\n",
    "c = \"C\"\n",
    "n = 3\n",
    "\n",
    "hano(n, a, b, c)\n",
    "\n",
    "# hano(3, a, b, c)"
   ]
  },
  {
   "cell_type": "markdown",
   "metadata": {},
   "source": [
    "## List\n",
    " - del：删除命令\n",
    " "
   ]
  },
  {
   "cell_type": "code",
   "execution_count": 84,
   "metadata": {},
   "outputs": [
    {
     "name": "stdout",
     "output_type": "stream",
     "text": [
      "[1, 2, 4, 5, 6]\n",
      "[1, 2, 3, 4, 5, 6]\n",
      "[1, 2, 3, 1, 2, 3, 1, 2, 3]\n",
      "False\n",
      "False\n"
     ]
    }
   ],
   "source": [
    "#del 删除\n",
    "\n",
    "a = [1,2,3,4,5,6]\n",
    "del a[2]\n",
    "print(a)\n",
    "#删除一个变量后，就不能再使用了\n",
    "del a\n",
    "# print(a)\n",
    "\n",
    "#+号，使用+号连接两个列表\n",
    "b = [1,2,3]\n",
    "c = [4,5,6]\n",
    "d = b + c\n",
    "print(d)\n",
    "# * 列表直接使用 * 号直接跟一个整数相乘\n",
    "# 相当于把n个列表接在一起\n",
    "\n",
    "f = b * 3\n",
    "print(f)\n",
    "\n",
    "#成员资格运算\n",
    "# 判断一个元素是否在列表中\n",
    "h = 6\n",
    "\n",
    "j = h in b\n",
    "print(j)\n",
    "\n",
    "# not in\n",
    "\n",
    "k = 3\n",
    "l = k not in b\n",
    "\n",
    "print(l)"
   ]
  },
  {
   "cell_type": "markdown",
   "metadata": {},
   "source": [
    "### 列表的遍历\n",
    " - for\n",
    " - while\n"
   ]
  },
  {
   "cell_type": "code",
   "execution_count": 89,
   "metadata": {},
   "outputs": [
    {
     "name": "stdout",
     "output_type": "stream",
     "text": [
      "1\n",
      "2\n",
      "3\n",
      "4\n",
      "5\n",
      "1\n",
      "3\n",
      "5\n",
      "7\n",
      "9\n"
     ]
    }
   ],
   "source": [
    "# in 后面的变量要求是可迭代的内容\n",
    "a = [1,2,3,4,5]\n",
    "for i in a:\n",
    "    print(i)\n",
    "#while 循环访问list,一般不用while\n",
    "\n",
    "b = [1,3,5,7,9]\n",
    "length = len(b)\n",
    "index = 0\n",
    "while index < length:\n",
    "        print(b[index])\n",
    "        index += 1\n",
    "    \n",
    "\n",
    "\n",
    "    "
   ]
  },
  {
   "cell_type": "code",
   "execution_count": 90,
   "metadata": {},
   "outputs": [
    {
     "name": "stdout",
     "output_type": "stream",
     "text": [
      "one --> 1 --> Hello\n",
      "two --> 2 --> world\n",
      "three --> 3 --> haha\n"
     ]
    }
   ],
   "source": [
    "# 双层列表循环\n",
    "\n",
    "# a为嵌套列表，或者叫双层列表\n",
    "# k v w 的个数应该跟解包出来的变量个数一致\n",
    "a = [[\"one\", 1, \"Hello\"], [\"two\", 2, \"world\"], [\"three\", 3, \"haha\"]]\n",
    "for k, v, w in a:\n",
    "    print(k, \"-->\", v, \"-->\", w)"
   ]
  },
  {
   "cell_type": "markdown",
   "metadata": {},
   "source": [
    "### 列表内含 list content\n",
    " - 通过简单方法创建列表"
   ]
  },
  {
   "cell_type": "code",
   "execution_count": 91,
   "metadata": {},
   "outputs": [
    {
     "name": "stdout",
     "output_type": "stream",
     "text": [
      "['1', '2', '3']\n"
     ]
    }
   ],
   "source": [
    "# for创建\n",
    "a = [\"1\", \"2\", \"3\"]\n",
    "b = [i for i in a]\n",
    "print(b)"
   ]
  },
  {
   "cell_type": "code",
   "execution_count": 93,
   "metadata": {},
   "outputs": [
    {
     "name": "stdout",
     "output_type": "stream",
     "text": [
      "[2, 4, 6, 8, 10]\n"
     ]
    }
   ],
   "source": [
    "a = [1,2,3,4,5]\n",
    "b = [i * 2 for i in a]\n",
    "print(b)"
   ]
  },
  {
   "cell_type": "code",
   "execution_count": 94,
   "metadata": {},
   "outputs": [
    {
     "name": "stdout",
     "output_type": "stream",
     "text": [
      "[2, 4, 6, 8, 10, 12, 14, 16, 18, 20, 22, 24, 26, 28, 30, 32, 34]\n"
     ]
    }
   ],
   "source": [
    "a = [x for x in range(1,35)]\n",
    "#列表生成式可以嵌套\n",
    "b = [m for m in a if m % 2 == 0]\n",
    "print(b)\n"
   ]
  },
  {
   "cell_type": "code",
   "execution_count": 97,
   "metadata": {},
   "outputs": [
    {
     "name": "stdout",
     "output_type": "stream",
     "text": [
      "[1, 2, 3, 4]\n",
      "[10, 20, 30]\n",
      "[11, 21, 31, 12, 22, 32, 13, 23, 33, 14, 24, 34]\n",
      "[11, 21, 12, 22, 13, 23, 14, 24]\n"
     ]
    }
   ],
   "source": [
    "#嵌套\n",
    "a = [i for i in range(1,5)]\n",
    "print(a)\n",
    "b = [i for i in range(10,40) if i % 10 == 0]\n",
    "print(b)\n",
    "\n",
    "c = [m+n for m in a for n in b]\n",
    "print(c)\n",
    "#嵌套列表的生成可以使用条件表达式\n",
    "\n",
    "c = [m+n for m in a for n in b if m+n < 25]\n",
    "print(c)"
   ]
  },
  {
   "cell_type": "markdown",
   "metadata": {},
   "source": [
    "### 关于列表的常用函数"
   ]
  },
  {
   "cell_type": "code",
   "execution_count": 100,
   "metadata": {},
   "outputs": [
    {
     "name": "stdout",
     "output_type": "stream",
     "text": [
      "19\n",
      "19\n",
      "lll\n"
     ]
    }
   ],
   "source": [
    "#  len：求列表长度\n",
    "a = [x for x in range(1,20)]\n",
    "print(len(a))\n",
    "\n",
    "# max：求列表中的最大值\n",
    "print(max(a))\n",
    "\n",
    "b = [\"hh\", \"lll\", \"ddddd\"]\n",
    "print(max(b))\n",
    "\n"
   ]
  },
  {
   "cell_type": "code",
   "execution_count": 105,
   "metadata": {},
   "outputs": [
    {
     "name": "stdout",
     "output_type": "stream",
     "text": [
      "[1, 2, 3]\n",
      "['h', 'e', 'l', 'l', 'o', ' ', 'w', 'o', 'r', 'l', 'd']\n"
     ]
    }
   ],
   "source": [
    "# list 将其他格式的数据转换成list\n",
    "\n",
    "# list(必须为可迭代的值)\n",
    "a = [1, 2, 3]\n",
    "print(list(a))\n",
    "\n",
    "s = \"hello world\"\n",
    "print(list(s))"
   ]
  },
  {
   "cell_type": "code",
   "execution_count": 106,
   "metadata": {},
   "outputs": [
    {
     "name": "stdout",
     "output_type": "stream",
     "text": [
      "[1, 2, 3, 4, 5, 6, 7, 8, 9]\n"
     ]
    }
   ],
   "source": [
    "# 把range产生的内容转换为list\n",
    "print(list(range(1,10)))"
   ]
  },
  {
   "cell_type": "markdown",
   "metadata": {},
   "source": [
    "## 关于列表的函数\n"
   ]
  },
  {
   "cell_type": "code",
   "execution_count": 2,
   "metadata": {},
   "outputs": [
    {
     "name": "stdout",
     "output_type": "stream",
     "text": [
      "['a', 1, 'hello', 100, 26]\n"
     ]
    }
   ],
   "source": [
    "## python中没有数组的概念，数组中存的是同一类型的数据。\n",
    "\n",
    "list = ['a', 1, \"hello\", 100, 10+16]\n",
    "print(list)"
   ]
  },
  {
   "cell_type": "code",
   "execution_count": 20,
   "metadata": {},
   "outputs": [
    {
     "name": "stdout",
     "output_type": "stream",
     "text": [
      "[1, 2, 3, 4, 5]\n",
      "[1, 2, 3, 4, 5, 20]\n",
      "[1, 2, 3, 100, 4, 5, 20]\n",
      "[1, 2, 3, 4, 5]\n",
      "5\n",
      "[1, 2, 3, 4]\n",
      "[2, 3, 4]\n",
      "[]\n",
      "H =[1, 2, 3, 4, 5], id: 4343086792\n",
      "H = [5, 4, 3, 2, 1], id:4343086792\n",
      "K = [2, 4, 6, 2, 8, 2]\n",
      "3\n",
      "4\n"
     ]
    }
   ],
   "source": [
    "# append插入一个内容，在末尾追加\n",
    "a = [i for i in range(1,6)]\n",
    "print(a)\n",
    "\n",
    "a.append(20)\n",
    "print(a)\n",
    "\n",
    "# insert    在指定位置插入\n",
    "a.insert(3, 100)\n",
    "print(a)\n",
    "\n",
    "# del 删除\n",
    "# pop 从队尾把拿出一个元素，即把最后一个元素取出\n",
    "#可通过id()去判断操作后的list是跟以前是同一个，还是新生成的list\n",
    "\n",
    "\n",
    "b = [1,2,3,4,5]\n",
    "print(b)\n",
    "c = b.pop()\n",
    "print(c)\n",
    "print(b)\n",
    "\n",
    "#remove: 在列表中删除指定的值的元素\n",
    "#mark :想要删除这个值，前提是存在这个值\n",
    "# if x in list:\n",
    "#     list.remove(x)\n",
    "# 也可使用 try ....except语句\n",
    "\n",
    "b.remove(1)\n",
    "print(b)\n",
    "\n",
    "#clear  清空\n",
    "b.clear()\n",
    "print(b)\n",
    "\n",
    "# reverse:翻转\n",
    "\n",
    "h = [1,2,3,4,5]\n",
    "print(\"H ={0}, id: {1}\".format(h, id(h)))\n",
    "h.reverse()\n",
    "print(\"H = {0}, id:{1}\".format(h, id(h)))\n",
    "\n",
    "# count 查找列表中指定值或元素的个数\n",
    "\n",
    "k = [2,4,6,2,8,2]\n",
    "print(\"K = {0}\".format(k))\n",
    "k_len = k.count(2)\n",
    "print(k_len)\n",
    "k.append(2)\n",
    "k_len = k.count(2)\n",
    "print(k_len)"
   ]
  },
  {
   "cell_type": "code",
   "execution_count": 22,
   "metadata": {},
   "outputs": [
    {
     "name": "stdout",
     "output_type": "stream",
     "text": [
      "[1, 2, 3, 4, 5]\n",
      " a = [1, 2, 3, 66, 5], id = 4341612040\n",
      " b = [1, 2, 3, 66, 5], id = 4341612040\n",
      " *  *  *  *  *  *  *  *  *  *  *  *  *  *  *  *  *  *  *  * \n",
      " a = [1, 2, 3, 66, 5], id = 4341612040\n",
      " b = [1, 2, 3, 66, 5], id = 4341642248\n",
      " *  *  *  *  *  *  *  *  *  *  *  *  *  *  *  *  *  *  *  * \n",
      " a = [1, 2, 3, 66, 5], id = 4341612040\n",
      " b = [1, 2, 3, 66, 100], id = 4341642248\n"
     ]
    }
   ],
   "source": [
    "# copy 拷贝,浅拷贝\n",
    "a = [1,2,3,4,5]\n",
    "print(a)\n",
    "b = a\n",
    "b[3]= 66\n",
    "print(\" a = {0}, id = {1}\".format(a, id(a)))\n",
    "\n",
    "print(\" b = {0}, id = {1}\".format(b, id(b)))\n",
    "print(\" * \" * 20)\n",
    "# 为了解决以上问题\n",
    "\n",
    "b = a.copy()\n",
    "\n",
    "print(\" a = {0}, id = {1}\".format(a, id(a)))\n",
    "\n",
    "print(\" b = {0}, id = {1}\".format(b, id(b)))\n",
    "\n",
    "print(\" * \" * 20)\n",
    "b[4] = 100\n",
    "print(\" a = {0}, id = {1}\".format(a, id(a)))\n",
    "\n",
    "print(\" b = {0}, id = {1}\".format(b, id(b)))\n"
   ]
  },
  {
   "cell_type": "code",
   "execution_count": 24,
   "metadata": {},
   "outputs": [
    {
     "name": "stdout",
     "output_type": "stream",
     "text": [
      "4342961928\n",
      "4341591368\n",
      "4342256584\n",
      "4342256584\n"
     ]
    }
   ],
   "source": [
    "# 深拷贝和浅拷贝的区别\n",
    "a = [1, 2, 3, [10, 20, 30]]\n",
    "b = a.copy()\n",
    "print(id(a))\n",
    "print(id(b))\n",
    "\n",
    "# list中的list居然是同一个\n",
    "#原因在于浅拷贝，copy函数是一个浅拷贝函数，即只拷贝一层内容\n",
    "# 深拷贝需要使用特殊工具\n",
    "print(id(a[3]))\n",
    "print(id(b[3]))\n",
    "\n"
   ]
  },
  {
   "cell_type": "markdown",
   "metadata": {},
   "source": [
    "## 元组-tuple\n",
    " - 元组可以看作是一个不可更改的list\n",
    "### 元组创建"
   ]
  },
  {
   "cell_type": "code",
   "execution_count": 30,
   "metadata": {},
   "outputs": [
    {
     "name": "stdout",
     "output_type": "stream",
     "text": [
      "<class 'tuple'>\n",
      "<class 'tuple'>\n",
      "<class 'tuple'>\n",
      "<class 'tuple'>\n",
      "(1, 2, 3, 4)\n",
      "<class 'tuple'>\n"
     ]
    }
   ],
   "source": [
    "#  创建空元组\n",
    "t = ()\n",
    "print(type(t))\n",
    "# 创建一个只有一个值的元组t\n",
    "k = (1, )\n",
    "print(type(k))\n",
    "#创建多个值的元组\n",
    "h = (1, 2, \"hello\")\n",
    "print(type(h))\n",
    "\n",
    "f = 1,2,3,4,\"hh\"\n",
    "print(type(f))\n",
    "\n",
    "# 使用其他结构创建\n",
    "list = [1,2,3,4]\n",
    "tu = tuple(list)\n",
    "print(tu)\n",
    "print(type(tu))"
   ]
  },
  {
   "cell_type": "markdown",
   "metadata": {},
   "source": [
    "### 元组的特性\n",
    " - 序列表，有序\n",
    " - 元组数据值可以访问，不能修改\n",
    " - 元组数据可以是任意类型\n",
    " - 总之，list所有的特性，除了可修改性，元组都具有\n",
    " - 意味着，list具有的一些操作，比如，索引，分片，序列相加， 相乘，成员资格操作等，一模一样\n",
    " \n"
   ]
  },
  {
   "cell_type": "code",
   "execution_count": 37,
   "metadata": {},
   "outputs": [
    {
     "name": "stdout",
     "output_type": "stream",
     "text": [
      "2\n",
      "(1, 2, 3, 4, 5, 6, 7, 8)\n",
      "(2, 4, 6, 8)\n",
      "(6, 8)\n",
      "(1, 2, 3)\n",
      "(4, 5, 6)\n",
      "4343711856\n",
      "(1, 2, 3, 4, 5, 6)\n",
      "4321874568\n"
     ]
    }
   ],
   "source": [
    "#索引操作\n",
    "t = (1,2,3,4)\n",
    "print(t[1])\n",
    "# 越界错误❌\n",
    "# print(t[10])\n",
    "\n",
    "\n",
    "#切片可以超标\n",
    "a1 = (1,2,3,4,5,6,7,8)\n",
    "a2 = a1[1::2]\n",
    "print(a1)\n",
    "print(a2)\n",
    "\n",
    "print(a2[2:10])\n",
    "\n",
    "#序列相加\n",
    "t1 = (1,2,3)\n",
    "t2 = (4,5,6)\n",
    "#tuple的不能修改指的是内容的修改，修改内容会导致报错\n",
    "\n",
    "print(t1)\n",
    "print(t2)\n",
    "print(id(t1))\n",
    "#传址操作\n",
    "t1 = t1 + t2\n",
    "print(t1)\n",
    "print(id(t1))\n",
    "\n"
   ]
  },
  {
   "cell_type": "code",
   "execution_count": 38,
   "metadata": {},
   "outputs": [
    {
     "name": "stdout",
     "output_type": "stream",
     "text": [
      "(1, 2, 3, 1, 2, 3, 1, 2, 3)\n"
     ]
    }
   ],
   "source": [
    "#相相乘\n",
    "\n",
    "t = (1,2,3)\n",
    "print(3 * t)"
   ]
  },
  {
   "cell_type": "code",
   "execution_count": 39,
   "metadata": {},
   "outputs": [
    {
     "name": "stdout",
     "output_type": "stream",
     "text": [
      "Yes\n"
     ]
    }
   ],
   "source": [
    "# 成员检测\n",
    "t = (1,2,3,4)\n",
    "if 2 in t:\n",
    "    print(\"Yes\")\n",
    "else:\n",
    "    print(\"NO\")"
   ]
  },
  {
   "cell_type": "code",
   "execution_count": 42,
   "metadata": {},
   "outputs": [
    {
     "name": "stdout",
     "output_type": "stream",
     "text": [
      "1 2 3 hello world hahah "
     ]
    }
   ],
   "source": [
    "#元组遍历\n",
    "#单层\n",
    "t = (1,2,3,\"hello\",\"world\",\"hahah\")\n",
    "for i in t:\n",
    "    print(i, end = \" \")\n",
    "    "
   ]
  },
  {
   "cell_type": "code",
   "execution_count": 45,
   "metadata": {},
   "outputs": [
    {
     "name": "stdout",
     "output_type": "stream",
     "text": [
      "(1, 2, 3)\n",
      "(4, 5, 6)\n",
      "('hello', 'world')\n",
      "1 -- 2 -- 3\n",
      "4 -- 5 -- 6\n",
      "hello -- world -- hhh\n"
     ]
    }
   ],
   "source": [
    "#双层\n",
    "t = ((1,2,3),(4,5,6),(\"hello\",\"world\"))\n",
    "for i in t:\n",
    "    print(i)\n",
    "t2 = ((1,2,3),(4,5,6),(\"hello\",\"world\",\"hhh\"))\n",
    "\n",
    "for k,v,m in t2:\n",
    "    print(k,\"--\",v,\"--\", m)"
   ]
  },
  {
   "cell_type": "markdown",
   "metadata": {},
   "source": [
    "###  关于元组的函数\n"
   ]
  },
  {
   "cell_type": "code",
   "execution_count": 2,
   "metadata": {},
   "outputs": [
    {
     "data": {
      "text/plain": [
       "(1, 2, 3, 4, 5)"
      ]
     },
     "execution_count": 2,
     "metadata": {},
     "output_type": "execute_result"
    }
   ],
   "source": [
    "#len：获取长度\n",
    "t = (1,2,3,4,5)\n",
    "len(t)\n",
    "t"
   ]
  },
  {
   "cell_type": "code",
   "execution_count": 4,
   "metadata": {},
   "outputs": [
    {
     "name": "stdout",
     "output_type": "stream",
     "text": [
      "5\n",
      "1\n"
     ]
    }
   ],
   "source": [
    "#max,min\n",
    "max(t)\n",
    "print(max(t))\n",
    "print(min(t))"
   ]
  },
  {
   "cell_type": "code",
   "execution_count": 7,
   "metadata": {},
   "outputs": [
    {
     "name": "stdout",
     "output_type": "stream",
     "text": [
      "(1, 2, 3, 4, 5, 6)\n",
      "()\n"
     ]
    }
   ],
   "source": [
    "# tuple 转化或创建元组\n",
    "list = [1,2,3,4,5,6]\n",
    "t = tuple(list)\n",
    "print(t)\n",
    "\n",
    "t = tuple()\n",
    "print(t)"
   ]
  },
  {
   "cell_type": "markdown",
   "metadata": {},
   "source": [
    "### 元组的函数\n",
    " - 基本跟list通用"
   ]
  },
  {
   "cell_type": "code",
   "execution_count": 9,
   "metadata": {},
   "outputs": [
    {
     "name": "stdout",
     "output_type": "stream",
     "text": [
      "4\n",
      "5\n"
     ]
    }
   ],
   "source": [
    "# count 计算指定数据出现的次数\n",
    "t = (1,2,3,4,5,6,7,6,6,43,6)\n",
    "print(t.count(6))\n",
    "#index 求指定元组在元组中的索引位置,如果有多个，则返回第一个\n",
    "print(t.index(6))\n"
   ]
  },
  {
   "cell_type": "code",
   "execution_count": 10,
   "metadata": {},
   "outputs": [
    {
     "name": "stdout",
     "output_type": "stream",
     "text": [
      "2\n",
      "1\n"
     ]
    }
   ],
   "source": [
    "# 两个变量交换值\n",
    "a = 1\n",
    "b = 2\n",
    "a, b = b, a\n",
    "print(a)\n",
    "print(b)"
   ]
  },
  {
   "cell_type": "markdown",
   "metadata": {},
   "source": [
    "## 集合-set \n",
    " - 一堆确定的无需的唯一的数据，集合中每一个数据称为一个元素\n",
    " "
   ]
  },
  {
   "cell_type": "code",
   "execution_count": 16,
   "metadata": {},
   "outputs": [
    {
     "name": "stdout",
     "output_type": "stream",
     "text": [
      "<class 'set'>\n",
      "<class 'dict'>\n",
      "<class 'set'>\n"
     ]
    }
   ],
   "source": [
    "#集合的定义\n",
    "s = set()\n",
    "print(type(s))\n",
    "#如果使用{}定义， 大括号内一定要有值，否则定义了一个字典\n",
    "se = {}\n",
    "print(type(se))\n",
    "se2 = {1,2,3}\n",
    "print(type(se2))"
   ]
  },
  {
   "cell_type": "markdown",
   "metadata": {},
   "source": [
    "### 集合的特征\n",
    " - 集合内数据无需，即无法使用索引和分类\n",
    " - 集合内部元素具有唯一性，可以用来排除重复数据\n",
    " - 集合内的元素，str,int ,float,tuple，冰冻集合等，即内部只能放置可哈希数据\n",
    " "
   ]
  },
  {
   "cell_type": "code",
   "execution_count": 23,
   "metadata": {},
   "outputs": [
    {
     "name": "stdout",
     "output_type": "stream",
     "text": [
      "{1, 2, 3, 'Test', 'hello'}\n",
      "Yes\n"
     ]
    }
   ],
   "source": [
    "### 集合序列操作\n",
    "\n",
    "#成员检测\n",
    "# in ， for in\n",
    "s = {1,2,3,\"hello\",\"Test\"}\n",
    "print(s)\n",
    "\n",
    "if 1 in s:\n",
    "    print(\"Yes\")\n",
    "if 2 not in s:\n",
    "    print(\"2不在集合中\")"
   ]
  },
  {
   "cell_type": "code",
   "execution_count": 27,
   "metadata": {},
   "outputs": [
    {
     "name": "stdout",
     "output_type": "stream",
     "text": [
      "1 2 3 Test hello  \n",
      "4 5 6\n",
      " \n",
      "7 8 9\n",
      " \n",
      "1 2 3\n"
     ]
    }
   ],
   "source": [
    "## 集合遍历操作\n",
    "# for \n",
    "s = {1,2,3,\"hello\",\"Test\"}\n",
    "for k in s:\n",
    "    print(k, end =\" \")\n",
    "#带有元组的集合遍历\n",
    "\n",
    "s = {(1,2,3),(4,5,6),(7,8,9)}\n",
    "for k,v,m in s:\n",
    "    print(\" \")\n",
    "    print(k, v, m)"
   ]
  },
  {
   "cell_type": "code",
   "execution_count": 30,
   "metadata": {},
   "outputs": [
    {
     "name": "stdout",
     "output_type": "stream",
     "text": [
      "{1, 2, 3, 4, 5, 6, 7, 45, 21, 567}\n"
     ]
    }
   ],
   "source": [
    "## 集合的内涵\n",
    "# 普通集合内涵\n",
    "s = {1,2,3,5,6,7,5,4,21,2,4,567,45}\n",
    "ss = {i for i in s}\n",
    "print(ss)\n"
   ]
  },
  {
   "cell_type": "code",
   "execution_count": 31,
   "metadata": {},
   "outputs": [
    {
     "name": "stdout",
     "output_type": "stream",
     "text": [
      "{2, 4, 6}\n"
     ]
    }
   ],
   "source": [
    "# 带条件的集合内涵\n",
    "sss = {i for i in s if i % 2 == 0}\n",
    "print(sss)"
   ]
  },
  {
   "cell_type": "code",
   "execution_count": 36,
   "metadata": {},
   "outputs": [
    {
     "name": "stdout",
     "output_type": "stream",
     "text": [
      "{'test', 'testtest', 'worldworld', 'testtesttest', 'worldworldworld', 'worldworldworldworld', 'hellohello', 'world', 'testtesttesttest', 'hellohellohellohello', 'hello', 'hellohellohello'}\n",
      "{'hellohello', 'worldworld', 'testtest'}\n"
     ]
    }
   ],
   "source": [
    "# 多循环的集合内涵\n",
    "s1 = {1,2,3,4}\n",
    "s2 = {\"hello\",\"world\",\"test\"}\n",
    "s = { m * n for m in s1 for n in s2}\n",
    "print(s)\n",
    "s = { m * n for m in s1 for n in s2 if m == 2}\n",
    "print(s)"
   ]
  },
  {
   "cell_type": "markdown",
   "metadata": {},
   "source": [
    "### 关于集合的函数\n"
   ]
  },
  {
   "cell_type": "code",
   "execution_count": 37,
   "metadata": {},
   "outputs": [
    {
     "name": "stdout",
     "output_type": "stream",
     "text": [
      "3\n",
      "1\n",
      "3\n"
     ]
    }
   ],
   "source": [
    "# len, max, min 跟其他函数基本一致\n",
    "s = {1,2,3}\n",
    "print(len(s))\n",
    "print(min(s))\n",
    "print(max(s))"
   ]
  },
  {
   "cell_type": "code",
   "execution_count": 38,
   "metadata": {},
   "outputs": [
    {
     "name": "stdout",
     "output_type": "stream",
     "text": [
      "{1, 2, 3}\n"
     ]
    }
   ],
   "source": [
    "# set 生成一个集合\n",
    "l = [1,2,3]\n",
    "s = set(l)\n",
    "print(s)"
   ]
  },
  {
   "cell_type": "code",
   "execution_count": 39,
   "metadata": {},
   "outputs": [
    {
     "name": "stdout",
     "output_type": "stream",
     "text": [
      "{1, 2, 3}\n"
     ]
    }
   ],
   "source": [
    "# add 向集合内增加元素\n",
    "s = {1,2}\n",
    "s.add(3)\n",
    "print(s)"
   ]
  },
  {
   "cell_type": "code",
   "execution_count": 40,
   "metadata": {},
   "outputs": [
    {
     "name": "stdout",
     "output_type": "stream",
     "text": [
      "{1, 2, 3, 4, 5}\n",
      "4469053928\n",
      "set()\n",
      "4469053928\n"
     ]
    }
   ],
   "source": [
    "# clear\n",
    "s = {1,2,3,4,5}\n",
    "print(s)\n",
    "print(id(s))\n",
    "s.clear()\n",
    "print(s)\n",
    "print(id(s))"
   ]
  },
  {
   "cell_type": "code",
   "execution_count": 45,
   "metadata": {},
   "outputs": [
    {
     "name": "stdout",
     "output_type": "stream",
     "text": [
      "{1, 2, 3, 4, 5, 6}\n",
      "{1, 3, 4, 5, 6}\n",
      "{1, 3, 5, 6}\n",
      "{3, 5, 6}\n"
     ]
    }
   ],
   "source": [
    "# copy 拷贝\n",
    "# remove:移除指定的值，直接改变原有值，如果要删的值不存在，报错\n",
    "# discard:移除集合中指定的值,跟remove一样，但是要删除的值没有的话，不会报错\n",
    "s = {1,2,3,4,5,6}\n",
    "print(s)\n",
    "s.remove(2)\n",
    "print(s)\n",
    "\n",
    "s.discard(4)\n",
    "print(s)\n",
    "\n",
    "#pop 随机移除一个元素\n",
    "\n",
    "s.pop()\n",
    "print(s)\n"
   ]
  },
  {
   "cell_type": "code",
   "execution_count": 48,
   "metadata": {},
   "outputs": [
    {
     "name": "stdout",
     "output_type": "stream",
     "text": [
      "{4, 5, 6, 7}\n",
      "{1, 2, 3}\n",
      "False\n"
     ]
    }
   ],
   "source": [
    "# 集合函数\n",
    "# intersection 交叉\n",
    "# difference 差集\n",
    "#union 并集\n",
    "# issubset: 检查一个集合是否为另一个子集\n",
    "# issuperset:检查一个集合是否为另一个超集\n",
    "\n",
    "s1 = {1,2,3,4,5,6,7}\n",
    "s2 = {4,5,6,7,8,9}\n",
    "s3 = s1.intersection(s2)\n",
    "print(s3)\n",
    "s4 = s1.difference(s2)\n",
    "print(s4)\n",
    "s5 = s1.issubset(s2)\n",
    "print(s5)"
   ]
  },
  {
   "cell_type": "code",
   "execution_count": 50,
   "metadata": {},
   "outputs": [
    {
     "name": "stdout",
     "output_type": "stream",
     "text": [
      "{1, 2, 3}\n"
     ]
    }
   ],
   "source": [
    "#集合的数学操作\n",
    "\n",
    "s1 = {1,2,3,4,5,6,7}\n",
    "s2 = {4,5,6,7,8,9}\n",
    "s3 = s1 - s2\n",
    "# 不支持+\n",
    "print(s3)"
   ]
  },
  {
   "cell_type": "markdown",
   "metadata": {},
   "source": [
    "### 冰冻集合 forzen set \n",
    " - 冰冻集合就是不可以进行任何修改的集合\n",
    " "
   ]
  },
  {
   "cell_type": "code",
   "execution_count": 52,
   "metadata": {},
   "outputs": [
    {
     "name": "stdout",
     "output_type": "stream",
     "text": [
      "<class 'frozenset'>\n"
     ]
    }
   ],
   "source": [
    "# 创建\n",
    "s = frozenset()\n",
    "print(type(s))\n"
   ]
  },
  {
   "cell_type": "markdown",
   "metadata": {},
   "source": [
    "## dict 字典\n",
    " - 字典是一种组合数据，没有顺序，数据以键值队形式出现"
   ]
  },
  {
   "cell_type": "code",
   "execution_count": 69,
   "metadata": {},
   "outputs": [
    {
     "name": "stdout",
     "output_type": "stream",
     "text": [
      "<class 'dict'>\n",
      "{'one': 1, 'two': 2, 'three': 3}\n",
      "{'one': 1, 'two': 2, 'three': 3}\n",
      "{'five': 5, 'six': 6, 'seven': 7}\n"
     ]
    }
   ],
   "source": [
    "# 字典的创建\n",
    "#创建空字典\n",
    "d = {}\n",
    "print(type(d))\n",
    "#创建有值的字典\n",
    "dic = {\"one\":1, \"two\":2,\"three\":3}\n",
    "print(dic)\n",
    "\n",
    "#用dict创建有内容的字典1:一个字典形参数\n",
    "dic2 = dict({\"one\":1,\"two\":2,\"three\":3})\n",
    "print(dic2)\n",
    "#用dict创建有内容的字典2:多个键值参数\n",
    "dic3 = dict( five=5, six=6, seven=7)\n",
    "\n",
    "print(dic3)"
   ]
  },
  {
   "cell_type": "markdown",
   "metadata": {},
   "source": [
    "### 字典的特征\n",
    " - 字典是序列类型，但是无序序列，因此没有分片和索引\n",
    " - 字典中的数据每个都由键值队组成，即k v对\n",
    "      - key必须是可哈希的值，比如int, string, float,tuple但是，list set dict不行\n",
    " "
   ]
  },
  {
   "cell_type": "markdown",
   "metadata": {},
   "source": [
    "#### 字典常见操作"
   ]
  },
  {
   "cell_type": "code",
   "execution_count": 71,
   "metadata": {},
   "outputs": [
    {
     "name": "stdout",
     "output_type": "stream",
     "text": [
      "1\n",
      "{'one': 1, 'three': 3}\n"
     ]
    }
   ],
   "source": [
    "# 访问数据\n",
    "d = {\"one\":1, \"two\":2, \"three\":3}\n",
    "print(d[\"one\"])\n",
    "#删除某个值\n",
    "del d[\"two\"]\n",
    "print(d)\n"
   ]
  },
  {
   "cell_type": "code",
   "execution_count": 72,
   "metadata": {},
   "outputs": [
    {
     "name": "stdout",
     "output_type": "stream",
     "text": [
      "2\n"
     ]
    }
   ],
   "source": [
    "#成员检测, in,not in \n",
    "#只检测key值\n",
    "d = {\"one\":1, \"two\":2, \"three\":3}\n",
    "\n",
    "if \"two\" in d:\n",
    "    print(d[\"two\"])\n",
    "\n"
   ]
  },
  {
   "cell_type": "code",
   "execution_count": 77,
   "metadata": {},
   "outputs": [
    {
     "name": "stdout",
     "output_type": "stream",
     "text": [
      "one 1\n",
      "two 2\n",
      "three 3\n",
      "one 1\n",
      "two 2\n",
      "three 3\n",
      "1\n",
      "2\n",
      "3\n",
      "one --> 1\n",
      "two --> 2\n",
      "three --> 3\n"
     ]
    }
   ],
   "source": [
    "# 遍历在python2和python3中差别较大,代码不通用\n",
    "# 按key值来使用for 循环\n",
    "d = {\"one\":1, \"two\":2, \"three\":3}\n",
    "for k in d:\n",
    "    print(k, d[k])\n",
    "    \n",
    "#可写成\n",
    "for k in d.keys():\n",
    "    print(k, d[k])\n",
    "# 只访问 value\n",
    "for v in d.values():\n",
    "    print(v)\n",
    "# 特殊用法\n",
    "for k, v in d.items():\n",
    "    print(k, \"-->\", v)"
   ]
  },
  {
   "cell_type": "markdown",
   "metadata": {},
   "source": [
    "#### 字典生成式"
   ]
  },
  {
   "cell_type": "code",
   "execution_count": 80,
   "metadata": {},
   "outputs": [
    {
     "name": "stdout",
     "output_type": "stream",
     "text": [
      "{'one': 1, 'two': 2, 'three': 3}\n",
      "{'two': 2}\n"
     ]
    }
   ],
   "source": [
    "d = {\"one\":1, \"two\":2, \"three\":3}\n",
    "#常见字典生成\n",
    "dd = {k:v for k,v in d.items()}\n",
    "print(dd)\n",
    "\n",
    "#为了加限制条件\n",
    "dd = {k:v for k, v in d.items() if v % 2 == 0}\n",
    "print(dd)"
   ]
  },
  {
   "cell_type": "markdown",
   "metadata": {},
   "source": [
    "#### 字典相关函数\n"
   ]
  },
  {
   "cell_type": "code",
   "execution_count": 82,
   "metadata": {},
   "outputs": [
    {
     "name": "stdout",
     "output_type": "stream",
     "text": [
      "{'one': 1, 'two': 2, 'three': 3}\n"
     ]
    }
   ],
   "source": [
    "#通用函数: len， max, min, dict\n",
    "# str(字典): 返回字典的字符串格式\n",
    "d = {\"one\":1, \"two\":2, \"three\":3}\n",
    "print(str(d))"
   ]
  },
  {
   "cell_type": "code",
   "execution_count": 83,
   "metadata": {},
   "outputs": [
    {
     "name": "stdout",
     "output_type": "stream",
     "text": [
      "<class 'dict_items'>\n"
     ]
    }
   ],
   "source": [
    "# clear 清空\n",
    "#items 返回字典的键值对组成的元组格式\n",
    "d = {\"one\":1, \"two\":2, \"three\":3}\n",
    "i = d.items()\n",
    "print(type(i))"
   ]
  },
  {
   "cell_type": "code",
   "execution_count": 84,
   "metadata": {},
   "outputs": [],
   "source": [
    "# keys ：返回字典的键组成的一个结构\n",
    "#values 同理，返回一个可迭代的结构"
   ]
  },
  {
   "cell_type": "code",
   "execution_count": 88,
   "metadata": {},
   "outputs": [
    {
     "name": "stdout",
     "output_type": "stream",
     "text": [
      "None\n",
      "2\n",
      "Yes\n",
      "3\n"
     ]
    }
   ],
   "source": [
    "# get 根据指定键返回相应的值，好处是，可以设置默认值\n",
    "d = {\"one\":1, \"two\":2, \"three\":3}\n",
    "print(d.get(\"hhh\"))\n",
    "\n",
    "#get可以设置默认值\n",
    "print(d.get(\"two\", \"Yes\"))\n",
    "#找不到就设置个默认值\n",
    "print(d.get(\"two11\", \"Yes\"))\n",
    "\n",
    "print(d[\"three\"])"
   ]
  },
  {
   "cell_type": "code",
   "execution_count": 89,
   "metadata": {},
   "outputs": [
    {
     "name": "stdout",
     "output_type": "stream",
     "text": [
      "{'hello': 'hahahha', 'world': 'hahahha', 'test': 'hahahha'}\n"
     ]
    }
   ],
   "source": [
    "# fromkeys: 使用指定的序列作为键，使用一个值作为字典的所有键的值\n",
    "li = [\"hello\", \"world\", \"test\"]\n",
    "#注意fromkeys两个参数的类型\n",
    "#注意fromkeys的调用主体\n",
    "d = dict.fromkeys(li, \"hahahha\")\n",
    "print(d)"
   ]
  },
  {
   "cell_type": "code",
   "execution_count": null,
   "metadata": {},
   "outputs": [],
   "source": []
  }
 ],
 "metadata": {
  "kernelspec": {
   "display_name": "Python 3",
   "language": "python",
   "name": "python3"
  },
  "language_info": {
   "codemirror_mode": {
    "name": "ipython",
    "version": 3
   },
   "file_extension": ".py",
   "mimetype": "text/x-python",
   "name": "python",
   "nbconvert_exporter": "python",
   "pygments_lexer": "ipython3",
   "version": "3.7.0"
  }
 },
 "nbformat": 4,
 "nbformat_minor": 2
}
