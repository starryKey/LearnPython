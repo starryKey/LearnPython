{
 "cells": [
  {
   "cell_type": "markdown",
   "metadata": {},
   "source": [
    "# Python基础\n",
    "## 环境安装\n",
    "- 环境安装 \n",
    "    - Anaconda：标准虚拟环境，包含一些工具\n",
    "          - [下载地址]（https://www.anaconda.com/download/#macos）\n",
    "          This site was built using [GitHub Pages](https://pages.github.com/).\n",
    "    - PyCharm 编辑器\n",
    "          - [PyCharm]（https://www.jetbrains.com/pycharm/）\n",
    "          - 激活方式：参考https://blog.csdn.net/u014044812/article/details/78727496\n",
    "- Python 执行方式\n",
    "     - 本质上Python是一堆命令的集合\n",
    "     - 执行过程是逐行执行，遇到问题就即刻中止\n",
    "     - 测试Hello World"
   ]
  },
  {
   "cell_type": "code",
   "execution_count": null,
   "metadata": {},
   "outputs": [],
   "source": []
  },
  {
   "cell_type": "markdown",
   "metadata": {},
   "source": [
    "print('Hello World')\n",
    "print(\"Hello Python\")"
   ]
  },
  {
   "cell_type": "code",
   "execution_count": null,
   "metadata": {},
   "outputs": [],
   "source": []
  }
 ],
 "metadata": {
  "kernelspec": {
   "display_name": "Python 3",
   "language": "python",
   "name": "python3"
  },
  "language_info": {
   "codemirror_mode": {
    "name": "ipython",
    "version": 3
   },
   "file_extension": ".py",
   "mimetype": "text/x-python",
   "name": "python",
   "nbconvert_exporter": "python",
   "pygments_lexer": "ipython3",
   "version": "3.7.0"
  }
 },
 "nbformat": 4,
 "nbformat_minor": 2
}
