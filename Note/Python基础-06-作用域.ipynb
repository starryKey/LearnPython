{
 "cells": [
  {
   "cell_type": "markdown",
   "metadata": {},
   "source": [
    "# 变量作用域\n",
    " - 变量有作用域范围限制\n",
    " - 分类：按照作用域分类\n",
    "     - 全局：在函数外部定义\n",
    "     - 局部：在函数内部定义\n",
    "     \n",
    " - 变量的作用范围：\n",
    "     - 全局变量：在整个全局范围都有效\n",
    "     - 全局变量在局部可以使用（即函数内部可以访问函数外部定义的变量）\n",
    "     - 局部变量在局部范围可以使用，在全局范围无法使用\n",
    "     \n",
    " - LEGB原则：\n",
    "     - L（local）局部作用域\n",
    "     - E（Enclosing function local）外部嵌套函数作用域\n",
    "     - F （Global module）函数\n",
    "     定义所在模块作用域\n",
    "     - B （Buildin）：python内置魔抗的作用域\n",
    "     "
   ]
  },
  {
   "cell_type": "code",
   "execution_count": 4,
   "metadata": {},
   "outputs": [
    {
     "name": "stdout",
     "output_type": "stream",
     "text": [
      "a1的值为100\n",
      "a2的值为99\n",
      "100\n"
     ]
    }
   ],
   "source": [
    "a1 = 100\n",
    "def func1():\n",
    "    a2 = 99\n",
    "    print(\"a1的值为{0}\".format(a1))\n",
    "    print(\"a2的值为{0}\".format(a2))\n",
    "    \n",
    "func1()\n",
    "print(a1)"
   ]
  },
  {
   "cell_type": "markdown",
   "metadata": {},
   "source": [
    "## 提升局部变量为全局变量\n",
    "  - 使用global\n",
    "  "
   ]
  },
  {
   "cell_type": "code",
   "execution_count": 8,
   "metadata": {},
   "outputs": [
    {
     "name": "stdout",
     "output_type": "stream",
     "text": [
      "a1的值为100\n",
      "200\n"
     ]
    }
   ],
   "source": [
    "a1 = 100\n",
    "def func1():\n",
    "    global a3\n",
    "    a3 = 200\n",
    "#     global(a2) = 99\n",
    "    print(\"a1的值为{0}\".format(a1))\n",
    "#     print(\"a2的值为{0}\".format(a2))\n",
    "    \n",
    "func1()\n",
    "print(a3)"
   ]
  },
  {
   "cell_type": "markdown",
   "metadata": {},
   "source": [
    "## globals,locals函数\n",
    " - 可以通过globals和locals显示出局部变量和全局变量\n",
    " - globals()和locals()为内建函数\n",
    " "
   ]
  },
  {
   "cell_type": "code",
   "execution_count": 13,
   "metadata": {},
   "outputs": [
    {
     "name": "stdout",
     "output_type": "stream",
     "text": [
      "locals={'c': 3, 'd': 4, 'e': 3}\n"
     ]
    }
   ],
   "source": [
    "#globals和locals\n",
    "a = 1\n",
    "b = 2\n",
    "\n",
    "def func_1(c, d):\n",
    "    e = 3\n",
    "    print(\"locals={0}\".format(locals()))\n",
    "    print(\"globals={0}\".format(globals()))\n",
    "    \n",
    "func_1(3,4)"
   ]
  },
  {
   "cell_type": "markdown",
   "metadata": {},
   "source": [
    "## eval()函数\n",
    " - 把一个字符串当成一个表达式来执行，返回表达值执行后的结果\n",
    " - 语法\n",
    "             \n",
    "             eval(string_code, globals=None, locals=None)"
   ]
  },
  {
   "cell_type": "code",
   "execution_count": 20,
   "metadata": {},
   "outputs": [
    {
     "name": "stdout",
     "output_type": "stream",
     "text": [
      "z1 = 300,z2 = 300\n",
      "x + y =  300\n"
     ]
    }
   ],
   "source": [
    "x = 100\n",
    "y = 200\n",
    "z1 = x + y \n",
    "z2 = eval(\"x + y\")\n",
    "print(\"z1 = {0},z2 = {1}\".format(z1,z2))\n",
    "\n",
    "z3 = eval(\"print('x + y = ', x + y)\")"
   ]
  },
  {
   "cell_type": "markdown",
   "metadata": {},
   "source": [
    "# 递归函数\n",
    "- 会直接或间接调用自身\n",
    "- 优点：简洁，理解容易\n",
    "- 缺点；对递归深度有限制，消耗资源大\n",
    "- python对递归有深度限制，超过限制报错\n"
   ]
  },
  {
   "cell_type": "code",
   "execution_count": 31,
   "metadata": {},
   "outputs": [],
   "source": [
    "# \n",
    "x = 0\n",
    "\n",
    "def func():\n",
    "    global x\n",
    "    x += 1\n",
    "    print(x)\n",
    "    if x < 100:\n",
    "        func()\n",
    "        \n",
    "func()"
   ]
  },
  {
   "cell_type": "code",
   "execution_count": 32,
   "metadata": {},
   "outputs": [],
   "source": [
    "# 斐波那契数列\n",
    "# 一列数字，第一个值是1，第二个也是1，从第三个数开始，每一个数字的值等于前两个数字出现的值的和\n",
    "#数学公式: f(1) = 1 f(2) = 1 f(n) = f(n-1) + f(n-2)\n",
    "# n  为正整数\n",
    "def fib(n):\n",
    "    if n == 1:\n",
    "        return 1\n",
    "    if n == 2:\n",
    "        return 1\n",
    "    return fib(n-1) + fib(n-2)"
   ]
  },
  {
   "cell_type": "code",
   "execution_count": 34,
   "metadata": {},
   "outputs": [
    {
     "name": "stdout",
     "output_type": "stream",
     "text": [
      "1\n",
      "1\n",
      "2\n",
      "3\n",
      "5\n",
      "8\n",
      "13\n",
      "21\n",
      "34\n"
     ]
    }
   ],
   "source": [
    "for i in range(1, 10):\n",
    "    print(fib(i))"
   ]
  },
  {
   "cell_type": "code",
   "execution_count": null,
   "metadata": {},
   "outputs": [],
   "source": []
  }
 ],
 "metadata": {
  "kernelspec": {
   "display_name": "Python 3",
   "language": "python",
   "name": "python3"
  },
  "language_info": {
   "codemirror_mode": {
    "name": "ipython",
    "version": 3
   },
   "file_extension": ".py",
   "mimetype": "text/x-python",
   "name": "python",
   "nbconvert_exporter": "python",
   "pygments_lexer": "ipython3",
   "version": "3.7.0"
  }
 },
 "nbformat": 4,
 "nbformat_minor": 2
}
