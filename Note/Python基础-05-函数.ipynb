{
 "cells": [
  {
   "cell_type": "markdown",
   "metadata": {},
   "source": [
    "# 函数\n",
    " - 代码的一种组织形式\n",
    " - 一个函数一般完成一项特定的功能\n",
    " - 函数的使用\n",
    "     - 函数需要先定义\n",
    "     - 使用函数，即调用\n",
    "     "
   ]
  },
  {
   "cell_type": "code",
   "execution_count": 15,
   "metadata": {},
   "outputs": [
    {
     "name": "stdout",
     "output_type": "stream",
     "text": [
      "这是定义的一个函数\n"
     ]
    }
   ],
   "source": [
    "#定义一个函数\n",
    "#只是定义的话，不会执行\n",
    "#1、def关键字，后面跟一个空格\n",
    "#2、函数名，自己定义，遵守命名规则\n",
    "#3、后面的括号和冒号不能省，括号内可以有参数\n",
    "#4、函数内所有代码缩进\n",
    "\n",
    "def func():\n",
    "    print(\"这是定义的一个函数\")\n",
    "    \n",
    "#函数的调用\n",
    "func()"
   ]
  },
  {
   "cell_type": "markdown",
   "metadata": {},
   "source": [
    "## 函数的参数和返回值\n",
    "- 参数：负责给函数传递一些必要的数据或信息\n",
    "        - 形参（形式参数）：在函数定义的时候用到的参数，没有具体值，只是一个占位符\n",
    "        - 实参（实际的参数）：赞函数调用时输入的值\n",
    "- 返回值：函数的执行结果\n",
    "        - 使用return关键字\n",
    "        - 如果没有返回值，默认返回none\n",
    "        - 函数一旦执行了return，就表示函数结束了"
   ]
  },
  {
   "cell_type": "code",
   "execution_count": 21,
   "metadata": {},
   "outputs": [
    {
     "name": "stdout",
     "output_type": "stream",
     "text": [
      "带参数的函数，参数为:hello\n"
     ]
    }
   ],
   "source": [
    "#参数的定义和使用\n",
    "#para只是一个符号，代表的是调用的时候的某一个值\n",
    "def func(para):\n",
    "    print(\"带参数的函数，参数为:{0}\".format(para))\n",
    "p = \"hello\"\n",
    "func(p)"
   ]
  },
  {
   "cell_type": "code",
   "execution_count": 25,
   "metadata": {},
   "outputs": [
    {
     "name": "stdout",
     "output_type": "stream",
     "text": [
      "打个招呼吧\n",
      "Hello Jack, I am Tom\n"
     ]
    },
    {
     "data": {
      "text/plain": [
       "'Tom已经和我打招呼了'"
      ]
     },
     "execution_count": 25,
     "metadata": {},
     "output_type": "execute_result"
    }
   ],
   "source": [
    "#return 的基本使用\n",
    "def hello(person):\n",
    "    print(\"打个招呼吧\")\n",
    "    print(\"Hello Jack, I am Tom\")\n",
    "    return \"{0}已经和我打招呼了\".format(person)\n",
    "\n",
    "hello(\"Tom\")"
   ]
  }
 ],
 "metadata": {
  "kernelspec": {
   "display_name": "Python 3",
   "language": "python",
   "name": "python3"
  },
  "language_info": {
   "codemirror_mode": {
    "name": "ipython",
    "version": 3
   },
   "file_extension": ".py",
   "mimetype": "text/x-python",
   "name": "python",
   "nbconvert_exporter": "python",
   "pygments_lexer": "ipython3",
   "version": "3.7.0"
  }
 },
 "nbformat": 4,
 "nbformat_minor": 2
}
