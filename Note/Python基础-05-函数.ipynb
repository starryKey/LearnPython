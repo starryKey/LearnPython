{
 "cells": [
  {
   "cell_type": "markdown",
   "metadata": {},
   "source": [
    "# 函数\n",
    " - 代码的一种组织形式\n",
    " - 一个函数一般完成一项特定的功能\n",
    " - 函数的使用\n",
    "     - 函数需要先定义\n",
    "     - 使用函数，即调用\n",
    "     "
   ]
  },
  {
   "cell_type": "code",
   "execution_count": 15,
   "metadata": {},
   "outputs": [
    {
     "name": "stdout",
     "output_type": "stream",
     "text": [
      "这是定义的一个函数\n"
     ]
    }
   ],
   "source": [
    "#定义一个函数\n",
    "#只是定义的话，不会执行\n",
    "#1、def关键字，后面跟一个空格\n",
    "#2、函数名，自己定义，遵守命名规则\n",
    "#3、后面的括号和冒号不能省，括号内可以有参数\n",
    "#4、函数内所有代码缩进\n",
    "\n",
    "def func():\n",
    "    print(\"这是定义的一个函数\")\n",
    "    \n",
    "#函数的调用\n",
    "func()"
   ]
  },
  {
   "cell_type": "markdown",
   "metadata": {},
   "source": [
    "## 函数的参数和返回值\n",
    "- 参数：负责给函数传递一些必要的数据或信息\n",
    "        - 形参（形式参数）：在函数定义的时候用到的参数，没有具体值，只是一个占位符\n",
    "        - 实参（实际的参数）：在函数调用时输入的值\n",
    "- 返回值：函数的执行结果\n",
    "        - 使用return关键字\n",
    "        - 如果没有返回值，默认返回none\n",
    "        - 函数一旦执行了return，就表示函数结束了"
   ]
  },
  {
   "cell_type": "code",
   "execution_count": 21,
   "metadata": {},
   "outputs": [
    {
     "name": "stdout",
     "output_type": "stream",
     "text": [
      "带参数的函数，参数为:hello\n"
     ]
    }
   ],
   "source": [
    "#参数的定义和使用\n",
    "#para只是一个符号，代表的是调用的时候的某一个值\n",
    "def func(para):\n",
    "    print(\"带参数的函数，参数为:{0}\".format(para))\n",
    "p = \"hello\"\n",
    "func(p)"
   ]
  },
  {
   "cell_type": "code",
   "execution_count": 26,
   "metadata": {},
   "outputs": [
    {
     "name": "stdout",
     "output_type": "stream",
     "text": [
      "打个招呼吧\n",
      "Hello Jack, I am Tom\n"
     ]
    },
    {
     "data": {
      "text/plain": [
       "'Tom已经和我打招呼了'"
      ]
     },
     "execution_count": 26,
     "metadata": {},
     "output_type": "execute_result"
    }
   ],
   "source": [
    "#return 的基本使用\n",
    "def hello(person):\n",
    "    print(\"打个招呼吧\")\n",
    "    print(\"Hello Jack, I am Tom\")\n",
    "    return \"{0}已经和我打招呼了\".format(person)\n",
    "\n",
    "hello(\"Tom\")"
   ]
  },
  {
   "cell_type": "markdown",
   "metadata": {},
   "source": [
    "## 查找函数的帮助文档\n",
    "- 用help()函数"
   ]
  },
  {
   "cell_type": "code",
   "execution_count": 38,
   "metadata": {},
   "outputs": [
    {
     "name": "stdout",
     "output_type": "stream",
     "text": [
      "Help on built-in function print in module builtins:\n",
      "\n",
      "print(...)\n",
      "    print(value, ..., sep=' ', end='\\n', file=sys.stdout, flush=False)\n",
      "    \n",
      "    Prints the values to a stream, or to sys.stdout by default.\n",
      "    Optional keyword arguments:\n",
      "    file:  a file-like object (stream); defaults to the current sys.stdout.\n",
      "    sep:   string inserted between values, default a space.\n",
      "    end:   string appended after the last value, default a newline.\n",
      "    flush: whether to forcibly flush the stream.\n",
      "\n",
      "1  \n",
      "2  4  \n",
      "3  6  9  \n",
      "4  8  12  16  \n",
      "5  10  15  20  25  \n",
      "6  12  18  24  30  36  \n",
      "7  14  21  28  35  42  49  \n",
      "8  16  24  32  40  48  56  64  \n",
      "9  18  27  36  45  54  63  72  81  \n"
     ]
    }
   ],
   "source": [
    "#查找函数的帮助文档\n",
    "#1、用help函数\n",
    "help(print)\n",
    "# 9 X 9乘法表\n",
    "for  row in  range(1,10):\n",
    "    for col in range(1, row + 1):\n",
    "            print( row * col, end=\"  \")\n",
    "    print(\"\")\n",
    "        \n"
   ]
  },
  {
   "cell_type": "code",
   "execution_count": 2,
   "metadata": {},
   "outputs": [
    {
     "name": "stdout",
     "output_type": "stream",
     "text": [
      "1  \n",
      "2  4  \n",
      "3  6  9  \n",
      "4  8  12  16  \n",
      "5  10  15  20  25  \n",
      "6  12  18  24  30  36  \n",
      "7  14  21  28  35  42  49  \n",
      "8  16  24  32  40  48  56  64  \n",
      "9  18  27  36  45  54  63  72  81  \n"
     ]
    }
   ],
   "source": [
    "#函数实现\n",
    "def printLine(row):\n",
    "    for col in range(1, row + 1):\n",
    "            print( row * col, end=\"  \")\n",
    "    print(\"\")\n",
    "    \n",
    "for row in range(1,10):\n",
    "    printLine(row)\n"
   ]
  },
  {
   "cell_type": "markdown",
   "metadata": {},
   "source": [
    "## 参数\n",
    "- 参数分类\n",
    "   - 普通参数\n",
    "   - 默认参数\n",
    "   - 关键字参数\n",
    "   - 收集参数\n",
    "   \n",
    "   \n",
    " - 普通参数\n",
    "     - 定义的时候直接定义变量名\n",
    "     - 调用的时候直接吧变量或值放入指定的位置\n",
    "     \n",
    "             def 函数名 （参数1， 参数2....）:\n",
    "                  函数体\n",
    "                 \n",
    "             #调用\n",
    "             函数名（value1，value2）\n",
    "   \n",
    " - 默认参数\n",
    "     - 形参带有默认值\n",
    "     - 调用的时候，如果没有值就使用默认的值\n",
    "         \n",
    "                 def  func testFunc(p1=value1, p2=value2,......)：\n",
    "                         //函数体\n",
    "                 #调用1\n",
    "                 testFunc()\n",
    "                 #调用2\n",
    "                 value1 = 10\n",
    "                 value2 = 20\n",
    "                 testFunc(value1,value2)\n",
    " - 关键字参数\n",
    "  - 语法\n",
    "                 \n",
    "                 def func(p1=v1,p2=v2......):\n",
    "                         函数体\n",
    "                  函数调用\n",
    "                  func(p1=value1,p2=value2)\n",
    "   - 比较麻烦，但是有好处\n",
    "       - 不容易混淆\n",
    "       \n",
    " - 收集参数\n",
    "     - 把没有位置，不能和定义时的参数位置相对的参数，放入一个特定的数据结构中\n",
    "     - 语法\n",
    "                      \n",
    "                      def func(*args):\n",
    "                            func_body\n",
    "                             按照list使用方式访问args得到传入的参数\n",
    "                      调用：\n",
    "                       func(p1, p2, p3, p4, ........)\n",
    "      - 参数名建议为args\n",
    "      - 参数名args前加*\n",
    "      - 收集参数可以和其他参数共存\n",
    "        "
   ]
  },
  {
   "cell_type": "code",
   "execution_count": 4,
   "metadata": {},
   "outputs": [
    {
     "name": "stdout",
     "output_type": "stream",
     "text": [
      "班级3,年级:5\n"
     ]
    }
   ],
   "source": [
    "#调用默认参数函数示例\n",
    "def getStudentInfo(sClass, grade = 5):\n",
    "    print(\"班级{0},年级:{1}\".format(sClass,grade))\n",
    "\n",
    "getStudentInfo(\"3\")\n",
    "    "
   ]
  },
  {
   "cell_type": "code",
   "execution_count": 11,
   "metadata": {},
   "outputs": [
    {
     "name": "stdout",
     "output_type": "stream",
     "text": [
      "姓名为Jack,年龄为:24\n"
     ]
    }
   ],
   "source": [
    "#使用关键字参数\n",
    "def setStudenInfo(name=\"\", age=20):\n",
    "      print(\"姓名为{0},年龄为:{1}\".format(name,age))\n",
    " \n",
    "setStudenInfo(name=\"Jack\", age=24)"
   ]
  },
  {
   "cell_type": "code",
   "execution_count": 15,
   "metadata": {},
   "outputs": [
    {
     "name": "stdout",
     "output_type": "stream",
     "text": [
      "('Jack', '18岁', 'like play basketball')\n",
      "<class 'tuple'>\n",
      "Jack\n",
      "18岁\n",
      "like play basketball\n",
      "('Tom', 'like sing song')\n",
      "<class 'tuple'>\n",
      "Tom\n",
      "like sing song\n"
     ]
    }
   ],
   "source": [
    "#收集参数示例\n",
    "#模拟一个学生自我介绍\n",
    "#把args看作一个列表\n",
    "#type()函数，用来检测变量类型\n",
    "#收集参数可以不带任何实参调用，此时收集参数为空tuple\n",
    "\n",
    "def student(*args):\n",
    "    print(args)\n",
    "    print(type(args))\n",
    "    for item in args:\n",
    "        print(item)\n",
    "    \n",
    "student(\"Jack\", \"18岁\", \"like play basketball\")\n",
    "\n",
    "student(\"Tom\", \"like sing song\")\n",
    "\n",
    "    \n",
    "\n"
   ]
  },
  {
   "cell_type": "code",
   "execution_count": null,
   "metadata": {},
   "outputs": [],
   "source": [
    "#如果使用关键字参数调用收集参数会出错"
   ]
  },
  {
   "cell_type": "markdown",
   "metadata": {},
   "source": [
    "### 收集参数之关键字收集参数\n",
    " - 把关键字参数按照字典的格式放入收集参数\n",
    " - 语法\n",
    " \n",
    "             def func(**kwargs):\n",
    "                 func_body\n",
    "             # 调用:\n",
    "             func(p1=v1, p2=v2, p3=v3,......)\n",
    "             \n",
    " - 调用的时候，把多余的关键字参数放入keyargs\n",
    " - 访问kwargs需要按照字典格式访问\n",
    " "
   ]
  },
  {
   "cell_type": "code",
   "execution_count": 1,
   "metadata": {},
   "outputs": [
    {
     "name": "stdout",
     "output_type": "stream",
     "text": [
      "********************\n",
      "{'name': 'Tom', 'age': 20, 'sex': 'male', 'addr': '杭州市滨江区'}\n",
      "<class 'dict'>\n",
      "name ---- Tom\n",
      "age ---- 20\n",
      "sex ---- male\n",
      "addr ---- 杭州市滨江区\n",
      "{}\n",
      "<class 'dict'>\n"
     ]
    }
   ],
   "source": [
    "#关键字收集参数示例\n",
    "def student(**kwargs):\n",
    "        print(kwargs)\n",
    "        #使用type()查看类型\n",
    "        print(type(kwargs))\n",
    "        #对于字典的访问，python2和 python3不同\n",
    "        for k,v in kwargs.items():\n",
    "            print(k,\"----\",v)\n",
    "        \n",
    "        \n",
    "#相当于把*号打印了20遍\n",
    "print(\"*\" * 20)        \n",
    "\n",
    "student(name=\"Tom\", age=20,  sex=\"male\", addr=\"杭州市滨江区\")\n",
    "\n",
    "#收集参数为空案例\n",
    "student()"
   ]
  },
  {
   "cell_type": "code",
   "execution_count": null,
   "metadata": {},
   "outputs": [],
   "source": []
  }
 ],
 "metadata": {
  "kernelspec": {
   "display_name": "Python 3",
   "language": "python",
   "name": "python3"
  },
  "language_info": {
   "codemirror_mode": {
    "name": "ipython",
    "version": 3
   },
   "file_extension": ".py",
   "mimetype": "text/x-python",
   "name": "python",
   "nbconvert_exporter": "python",
   "pygments_lexer": "ipython3",
   "version": "3.7.0"
  }
 },
 "nbformat": 4,
 "nbformat_minor": 2
}
