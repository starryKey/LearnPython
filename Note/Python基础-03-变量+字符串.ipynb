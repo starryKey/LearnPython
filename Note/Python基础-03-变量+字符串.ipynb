{
 "cells": [
  {
   "cell_type": "markdown",
   "metadata": {},
   "source": [
    "# 字符串\n",
    " - 转义字符\n",
    " - 格式化\n",
    " - 内建函数\n",
    " ## 转义字符\n",
    " - 用一个特殊的方法表示处一系列不必放拜年写出的内容，比如回车、换行键、退格键等\n",
    " - 借助反斜杠字符，一旦字符种出现了反斜杠，则反斜杠后面的一个或几个字符表示的已经不是原来的意思，进行了转义；\n",
    " - 不同系统对换行有所不同的表示\n",
    "     - Windows：\\n\n",
    "     - linux : \\r\\n\n",
    " ## 字符串的格式化\n",
    " - 把字符串按照一定的格式打印或填充\n",
    " - 格式化的两种方法\n",
    "     - 利用百分号 % \n",
    "     - 利用format函数\n",
    " "
   ]
  },
  {
   "cell_type": "code",
   "execution_count": 18,
   "metadata": {
    "scrolled": true
   },
   "outputs": [
    {
     "name": "stdout",
     "output_type": "stream",
     "text": [
      "Let's go\n",
      "Let's go\n",
      "打印一个反斜杠 \\\n",
      "let's  \r\n",
      " go\n"
     ]
    }
   ],
   "source": [
    "test1 = \"Let's go\"\n",
    "print(test1)\n",
    "test2 = \"Let\\'s go\"\n",
    "print(test2)\n",
    "test3 = \"打印一个反斜杠 \\\\\"\n",
    "print(test3)\n",
    "test4 = \"let's  \\r\\n go\"\n",
    "print(test4)"
   ]
  },
  {
   "cell_type": "markdown",
   "metadata": {},
   "source": [
    "### 利用百分号格式化\n",
    "- 在字符串中，利用%表示一个特殊含义，表示对字符串进行格式化\n",
    "- %d: 表示此处应该放一个整数\n",
    "- %s: 表示此处应该放一个字符串"
   ]
  },
  {
   "cell_type": "code",
   "execution_count": 25,
   "metadata": {},
   "outputs": [
    {
     "name": "stdout",
     "output_type": "stream",
     "text": [
      "hello %s\n",
      "hello world\n",
      "I am 18 years old\n"
     ]
    }
   ],
   "source": [
    "s = \"hello %s\"\n",
    "#z直接讲%s作为一个字符串打印出来\n",
    "print(s)\n",
    "#正确的方式为\n",
    "print(s%\"world\")\n",
    "age = \"I am %d years old\"\n",
    "print(age%18)"
   ]
  },
  {
   "cell_type": "code",
   "execution_count": 33,
   "metadata": {},
   "outputs": [
    {
     "name": "stdout",
     "output_type": "stream",
     "text": [
      "I am %s，and I am %d years old\n",
      "I am 小明，and I am 20 years old\n"
     ]
    }
   ],
   "source": [
    "s = \"I am %s，and I am %d years old\"\n",
    "print(s)\n",
    "# 如果出现多个占位符，则相应内容需要用括号括起来\n",
    "print(s%(\"Tom\",20))"
   ]
  },
  {
   "cell_type": "markdown",
   "metadata": {},
   "source": [
    "### format函数格式化字符串\n",
    "- 直接使用format函数进行格式化\n",
    "- 在使用上，以{ }和: 代替% 号，后面用format带参数完成"
   ]
  },
  {
   "cell_type": "code",
   "execution_count": 34,
   "metadata": {},
   "outputs": [
    {
     "name": "stdout",
     "output_type": "stream",
     "text": [
      "I am Jack\n",
      "I am 20 years old,  I love Python, and I am 20 years old \n"
     ]
    }
   ],
   "source": [
    "s = \"I am {}\".format(\"Jack\")\n",
    "print(s)\n",
    "s = \"I am {1} years old,  I love {0}, and I am {1} years old \".format(\"Python\",20)\n",
    "print(s)"
   ]
  }
 ],
 "metadata": {
  "kernelspec": {
   "display_name": "Python 3",
   "language": "python",
   "name": "python3"
  },
  "language_info": {
   "codemirror_mode": {
    "name": "ipython",
    "version": 3
   },
   "file_extension": ".py",
   "mimetype": "text/x-python",
   "name": "python",
   "nbconvert_exporter": "python",
   "pygments_lexer": "ipython3",
   "version": "3.7.0"
  }
 },
 "nbformat": 4,
 "nbformat_minor": 2
}
