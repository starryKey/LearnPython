{
 "cells": [
  {
   "cell_type": "markdown",
   "metadata": {},
   "source": [
    "# 字符串\n",
    " - 转义字符\n",
    " - 格式化\n",
    " - 内建函数\n",
    " ## 转义字符\n",
    " - 用一个特殊的方法表示处一系列不必放拜年写出的内容，比如回车、换行键、退格键等\n",
    " - 借助反斜杠字符，一旦字符种出现了反斜杠，则反斜杠后面的一个或几个字符表示的已经不是原来的意思，进行了转义；\n",
    " - 不同系统对换行有所不同的表示\n",
    "     - Windows：\\n\n",
    "     - linux : \\r\\n\n",
    " ## 字符串的格式化\n",
    " - 把字符串按照一定的格式打印或填充\n",
    " - 格式化的两种方法\n",
    "     - 利用百分号 % \n",
    "     - 利用format函数\n",
    " "
   ]
  },
  {
   "cell_type": "code",
   "execution_count": 18,
   "metadata": {
    "scrolled": true
   },
   "outputs": [
    {
     "name": "stdout",
     "output_type": "stream",
     "text": [
      "Let's go\n",
      "Let's go\n",
      "打印一个反斜杠 \\\n",
      "let's  \r\n",
      " go\n"
     ]
    }
   ],
   "source": [
    "test1 = \"Let's go\"\n",
    "print(test1)\n",
    "test2 = \"Let\\'s go\"\n",
    "print(test2)\n",
    "test3 = \"打印一个反斜杠 \\\\\"\n",
    "print(test3)\n",
    "test4 = \"let's  \\r\\n go\"\n",
    "print(test4)"
   ]
  },
  {
   "cell_type": "markdown",
   "metadata": {},
   "source": [
    "### 利用百分号格式化\n",
    "- 在字符串中，利用%表示一个特殊含义，表示对字符串进行格式化\n",
    "- %d: 表示此处应该放一个整数\n",
    "- %s: 表示此处应该放一个字符串"
   ]
  },
  {
   "cell_type": "code",
   "execution_count": 25,
   "metadata": {},
   "outputs": [
    {
     "name": "stdout",
     "output_type": "stream",
     "text": [
      "hello %s\n",
      "hello world\n",
      "I am 18 years old\n"
     ]
    }
   ],
   "source": [
    "s = \"hello %s\"\n",
    "#z直接讲%s作为一个字符串打印出来\n",
    "print(s)\n",
    "#正确的方式为\n",
    "print(s%\"world\")\n",
    "age = \"I am %d years old\"\n",
    "print(age%18)"
   ]
  },
  {
   "cell_type": "code",
   "execution_count": 33,
   "metadata": {},
   "outputs": [
    {
     "name": "stdout",
     "output_type": "stream",
     "text": [
      "I am %s，and I am %d years old\n",
      "I am 小明，and I am 20 years old\n"
     ]
    }
   ],
   "source": [
    "s = \"I am %s，and I am %d years old\"\n",
    "print(s)\n",
    "# 如果出现多个占位符，则相应内容需要用括号括起来\n",
    "print(s%(\"Tom\",20))"
   ]
  },
  {
   "cell_type": "markdown",
   "metadata": {},
   "source": [
    "### format函数格式化字符串\n",
    "- 直接使用format函数进行格式化\n",
    "- 在使用上，以{ }和: 代替% 号，后面用format带参数完成"
   ]
  },
  {
   "cell_type": "code",
   "execution_count": 35,
   "metadata": {},
   "outputs": [
    {
     "name": "stdout",
     "output_type": "stream",
     "text": [
      "I am Jack\n",
      "I am 20 years old,  I love Python, and I am 20 years old \n"
     ]
    }
   ],
   "source": [
    "s = \"I am {}\".format(\"Jack\")\n",
    "print(s)\n",
    "s = \"I am {1} years old,  I love {0}, and I am {1} years old \".format(\"Python\",20)\n",
    "print(s)"
   ]
  },
  {
   "cell_type": "markdown",
   "metadata": {},
   "source": [
    "## None\n",
    "- 表示什么都没有\n",
    "- 如果函数没有返回值，可以返回None\n",
    "- 用来占位置\n",
    "- 用来接触变量绑定"
   ]
  },
  {
   "cell_type": "markdown",
   "metadata": {},
   "source": [
    "# 表达式\n",
    "- 有一个或几个数字或变量和运算符组合成的一行代码\n",
    "- 通常会返回一个结果\n",
    "# 运算符\n",
    "- 由一个以上的值经过变化得到新值的过程叫运算\n",
    "- 用于运算的符号都叫运算符\n",
    "- 运算符分类\n",
    "     - 算术运算符\n",
    "         - \\+、- 、 * 、/\n",
    "         - 除号使用/ 、%取余、// 取商  、** 幂运算\n",
    "         - Python没有自增、自减运算符\n",
    "     - 比较或者关系运算符\n",
    "         - 对两个变量或者值进行比较的运算符\n",
    "         - 比较的结果是Bool值，即True/False\n",
    "         - ==  、 ！= 、 > 、 < >= 、<= \n",
    "     - 位运算\n",
    "       -  &（按位与） |（按位或） ^（异或） ~（取反） <<（左移）  >>（）右移\n",
    "     - 身份运算符\n",
    "       - is用来检测两个变量是否是同一个变量\n",
    "       - 语法 var1 is var2\n",
    "       - is not 检测两个变量不是同一个变量\n",
    "     - 成员运算\n",
    "         - 用来检测某一个变量是否是另一个变量的成员\n",
    "         - in\n",
    "         - not in\n",
    "     - 逻辑运算符\n",
    "         - and与、 or或、 not否\n",
    "         - python中逻辑运算没有异或运算\n",
    "         - 运算规则\n",
    "             - and看作乘法，or看作加法\n",
    "             - True看作1，False看作0\n",
    "             - 最后结果如果是0则为False，否则为1\n",
    "             \n",
    "     - 赋值运算符\n",
    "          - 所有运算符都有缩写形式 赋值= 、+=、-= 、*= 、/= 、%= 、**=\n",
    "   "
   ]
  },
  {
   "cell_type": "markdown",
   "metadata": {},
   "source": [
    "## 逻辑运算符\n",
    " - and与、 or或、 not否\n",
    " - python中逻辑运算没有异或运算\n",
    " - 运算规则"
   ]
  },
  {
   "cell_type": "code",
   "execution_count": 41,
   "metadata": {},
   "outputs": [
    {
     "name": "stdout",
     "output_type": "stream",
     "text": [
      "True\n",
      "True\n"
     ]
    }
   ],
   "source": [
    "#逻辑运算符规则\n",
    "a = True\n",
    "b = False\n",
    "c = True\n",
    "# 以下式子等价于 d = 1 * 0 + 1\n",
    "d = a and b or c\n",
    "print(d)\n",
    "#逻辑运算符的短路案例\n",
    "#下面的逻辑表达式，a的值一定是True，则运行到or的时候，整个表达式不再向下计算\n",
    "a = True or xxxxx\n",
    "print(a)\n",
    "\n"
   ]
  },
  {
   "cell_type": "markdown",
   "metadata": {},
   "source": [
    "## 成员运算符\n",
    "- 用来检测某一个变量是否是另一个变量的成员\n",
    "- in\n",
    "- not in\n"
   ]
  },
  {
   "cell_type": "code",
   "execution_count": 44,
   "metadata": {},
   "outputs": [
    {
     "name": "stdout",
     "output_type": "stream",
     "text": [
      "False\n",
      "True\n"
     ]
    }
   ],
   "source": [
    "#案例\n",
    "L = [1,2,3,4]\n",
    "a = 7\n",
    "b = a in L\n",
    "print(b)\n",
    "b = a not in L\n",
    "print(b)\n"
   ]
  },
  {
   "cell_type": "markdown",
   "metadata": {},
   "source": [
    "## 身份运算\n",
    "- is用来检测两个变量是否是同一个变量\n",
    "    - 语法 var1 is var2\n",
    "- is not 检测两个变量不是同一个变量"
   ]
  },
  {
   "cell_type": "code",
   "execution_count": 50,
   "metadata": {},
   "outputs": [
    {
     "name": "stdout",
     "output_type": "stream",
     "text": [
      "True\n",
      "False\n"
     ]
    }
   ],
   "source": [
    "a = 3\n",
    "b = 3\n",
    "c = a is b\n",
    "print(c)\n",
    "c = a is not b\n",
    "print(c)"
   ]
  },
  {
   "cell_type": "markdown",
   "metadata": {},
   "source": [
    "## 运算符的优先级问题\n",
    "- 括号的优先级最高\n",
    "## 程序结构\n",
    "- 顺序\n",
    "- 分支\n",
    "- 循环"
   ]
  },
  {
   "cell_type": "code",
   "execution_count": null,
   "metadata": {},
   "outputs": [],
   "source": []
  }
 ],
 "metadata": {
  "kernelspec": {
   "display_name": "Python 3",
   "language": "python",
   "name": "python3"
  },
  "language_info": {
   "codemirror_mode": {
    "name": "ipython",
    "version": 3
   },
   "file_extension": ".py",
   "mimetype": "text/x-python",
   "name": "python",
   "nbconvert_exporter": "python",
   "pygments_lexer": "ipython3",
   "version": "3.7.0"
  }
 },
 "nbformat": 4,
 "nbformat_minor": 2
}
