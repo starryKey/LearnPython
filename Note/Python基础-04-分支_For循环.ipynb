{
 "cells": [
  {
   "cell_type": "markdown",
   "metadata": {},
   "source": [
    "# 程序结构\n",
    " - 顺序\n",
    " - 分支\n",
    " - 循环\n",
    " \n",
    "## 顺序\n",
    "\n",
    "## 循环\n",
    "\n",
    "## 分支\n",
    "\n",
    "### 单向分支\n",
    "   - 分支的基本语法\n",
    "     - if 条件表达式：\n",
    "         语句1\n",
    "         语句2\n",
    "         ......\n",
    "     - 表达式后面的冒号不能少\n",
    "     - 条件表达式就是计算结果位Bool值的表达式\n",
    "     - 条件表达式结果为True执行if后面的语句块，否则执行与if缩近平齐的语句块\n",
    "     - 注意if后面出现的语句，如果属于if语句块，责必须同一个缩进等级\n",
    "     \n",
    "### 双向分支\n",
    " - if...else...语句\n",
    "     if 条件表达式:\n",
    "         语句1\n",
    "         语句2\n",
    "         .......\n",
    "      else：\n",
    "          语句1\n",
    "          语句2\n",
    "          .....\n",
    " - 缩进问题，if和else属于一个层级，其他语句一个层级\n",
    "\n"
   ]
  },
  {
   "cell_type": "code",
   "execution_count": null,
   "metadata": {},
   "outputs": [],
   "source": [
    "#分支 单向分支\n",
    "age = 17\n",
    "if  age > 18 :\n",
    "    print(\"成年了\")\n",
    "print(\"未成年\")"
   ]
  },
  {
   "cell_type": "code",
   "execution_count": 16,
   "metadata": {},
   "outputs": [
    {
     "name": "stdout",
     "output_type": "stream",
     "text": [
      "请输入你的名字:tom\n",
      "输入的名称是: tom\n",
      "请输入你的年龄:20\n",
      "年龄是 18\n"
     ]
    }
   ],
   "source": [
    "# 双向分支\n",
    "# input的作用\n",
    "##1、在屏幕上输出括号内的字符串\n",
    "##2、接受用户输入的内容并返回到程序来\n",
    "##3、input返回的内容一定是字符串类型\n",
    "name = input(\"请输入你的名字:\")\n",
    "print(\"输入的名称是: {0}\".format(name))\n",
    "age = input(\"请输入你的年龄:\")\n",
    "testage = \"年龄是 %d\"\n",
    "print(testage%)"
   ]
  },
  {
   "cell_type": "code",
   "execution_count": null,
   "metadata": {},
   "outputs": [],
   "source": []
  }
 ],
 "metadata": {
  "kernelspec": {
   "display_name": "Python 3",
   "language": "python",
   "name": "python3"
  },
  "language_info": {
   "codemirror_mode": {
    "name": "ipython",
    "version": 3
   },
   "file_extension": ".py",
   "mimetype": "text/x-python",
   "name": "python",
   "nbconvert_exporter": "python",
   "pygments_lexer": "ipython3",
   "version": "3.7.0"
  }
 },
 "nbformat": 4,
 "nbformat_minor": 2
}
