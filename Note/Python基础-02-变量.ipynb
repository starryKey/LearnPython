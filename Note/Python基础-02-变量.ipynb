{
 "cells": [
  {
   "cell_type": "markdown",
   "metadata": {},
   "source": [
    "# Python-变量\n",
    "## 注释\n",
    " - 行注释 ：以#号开头，可以单独行，也可以写在某行代码的后面\n",
    " - 块注释 ：以三个连续单引号或者双引号开始或结束\n",
    " \n",
    "## 命名\n",
    "- 命名规则\n",
    "    - 常见的为数字、大小写字母、下划线等，不实用数字开头\n",
    "    - 驼峰命名等\n",
    "    - posix写法\n",
    "        - 多个单词下划线连接\n",
    "        - 单词全部小写\n",
    "    - 关键字和保留字\n",
    "        - class、break、for等\n",
    "        - 查看关键字的方法 #import keyword  print(keyword.kwlist)\n",
    "        \n",
    "## 变量声明\n",
    "   - var_name = value\n",
    "   - var1 = var2 = var3 = var_value\n",
    "   - var1,var2,var3 = value1, vaue2,value3\n",
    "   \n",
    "## 变量的类型\n",
    "   - 纯面向对象，严格意义上讲，只有一个类型\n",
    "   - 标准讲，有6种数据类型\n",
    "       - 数字类型number\n",
    "           - 没有小数部分，表示个数的数字\n",
    "           - 自然数，0，负自然数\n",
    "           - 整数分进制\n",
    "              - 二进制 、八进制（0o开头）、十进制、十六进制0x开头\n",
    "       - 字符串string\n",
    "            - 单引号、双引号、三引号   ' ' 、  '' '' 、 '''  '''\n",
    "       - 列表list\n",
    "       - 元组tuple\n",
    "       - 字典Dictionary\n",
    "       - 集合set\n",
    "   - 浮点数\n",
    "      - 小数\n",
    "   - 复数 Complex\n",
    "     - 一个由实部和虚部构成的数字，虚部用J/j表示，Z = 5 + 3j\n",
    "   - 布尔值\n",
    "     - 表示真假、只有True False\n",
    "     - 可直接当数字使用\n"
   ]
  },
  {
   "cell_type": "code",
   "execution_count": 6,
   "metadata": {},
   "outputs": [
    {
     "data": {
      "text/plain": [
       "'  测试 '"
      ]
     },
     "execution_count": 6,
     "metadata": {},
     "output_type": "execute_result"
    }
   ],
   "source": [
    "# 测试行注释"
   ]
  },
  {
   "cell_type": "code",
   "execution_count": 13,
   "metadata": {},
   "outputs": [
    {
     "name": "stdout",
     "output_type": "stream",
     "text": [
      "['False', 'None', 'True', 'and', 'as', 'assert', 'async', 'await', 'break', 'class', 'continue', 'def', 'del', 'elif', 'else', 'except', 'finally', 'for', 'from', 'global', 'if', 'import', 'in', 'is', 'lambda', 'nonlocal', 'not', 'or', 'pass', 'raise', 'return', 'try', 'while', 'with', 'yield']\n"
     ]
    }
   ],
   "source": [
    "import keyword\n",
    "print(keyword.kwlist)"
   ]
  },
  {
   "cell_type": "code",
   "execution_count": 14,
   "metadata": {},
   "outputs": [
    {
     "name": "stdout",
     "output_type": "stream",
     "text": [
      "11\n"
     ]
    }
   ],
   "source": [
    "age = 10 + True\n",
    "print(age)"
   ]
  },
  {
   "cell_type": "code",
   "execution_count": 16,
   "metadata": {},
   "outputs": [
    {
     "name": "stdout",
     "output_type": "stream",
     "text": [
      "\n",
      "hhh\n",
      "ccc\n",
      "lll\n",
      "\n"
     ]
    }
   ],
   "source": [
    "html = '''\n",
    "hhh\n",
    "ccc\n",
    "lll\n",
    "'''\n",
    "print(html)"
   ]
  },
  {
   "cell_type": "code",
   "execution_count": null,
   "metadata": {},
   "outputs": [],
   "source": []
  }
 ],
 "metadata": {
  "kernelspec": {
   "display_name": "Python 3",
   "language": "python",
   "name": "python3"
  },
  "language_info": {
   "codemirror_mode": {
    "name": "ipython",
    "version": 3
   },
   "file_extension": ".py",
   "mimetype": "text/x-python",
   "name": "python",
   "nbconvert_exporter": "python",
   "pygments_lexer": "ipython3",
   "version": "3.7.0"
  }
 },
 "nbformat": 4,
 "nbformat_minor": 2
}
