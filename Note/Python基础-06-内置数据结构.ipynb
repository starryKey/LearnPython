{
 "cells": [
  {
   "cell_type": "markdown",
   "metadata": {},
   "source": [
    "# 内置数据结构（变量类型）\n",
    " - list\n",
    " - set\n",
    " - dict\n",
    " - tuple\n",
    " \n",
    " \n",
    "## list(列表)\n",
    " - 一组有顺序的数据的组合\n",
    " - 创建列表\n",
    "     - 空列表"
   ]
  },
  {
   "cell_type": "code",
   "execution_count": 5,
   "metadata": {},
   "outputs": [
    {
     "name": "stdout",
     "output_type": "stream",
     "text": [
      "[]\n",
      "<class 'list'>\n",
      "['hello', 'hi']\n",
      "[]\n"
     ]
    }
   ],
   "source": [
    "# list 列表\n",
    "#1、创建空列表\n",
    "l1 = []\n",
    "print(l1)\n",
    "print(type(l1))\n",
    "#2、创建带值的列表\n",
    "l2 = [\"hello\",\"hi\"]\n",
    "print(l2)\n",
    "#3 、使用list()\n",
    "\n",
    "l3 = list()\n",
    "print(l3)"
   ]
  },
  {
   "cell_type": "markdown",
   "metadata": {},
   "source": [
    "## 列表常见操作\n",
    "- 访问\n",
    "    - 使用下标操作(索引)\n",
    "    - 列表的访问是从下标从0开始\n",
    "    - 不能越界访问\n",
    "    \n",
    "- 分片操作\n",
    "     - 对列表进行任意一段的截取\n",
    "     - list1[:] ,包含下标左边的，不包含下标右边的\n",
    "     - 下标值可以为空，如果不写，左边下标值默认为0，右边下标值为最大个数+1，即为最后一个值\n",
    "     - 可以控制片的增长幅度"
   ]
  },
  {
   "cell_type": "code",
   "execution_count": 10,
   "metadata": {},
   "outputs": [
    {
     "name": "stdout",
     "output_type": "stream",
     "text": [
      "[1, 2, 3, 4, 5]\n",
      "3\n"
     ]
    }
   ],
   "source": [
    "# 使用下标访问列表\n",
    "list1 = [1,2,3,4,5]\n",
    "\n",
    "print(list1)\n",
    "print(list1[2])"
   ]
  },
  {
   "cell_type": "code",
   "execution_count": 21,
   "metadata": {},
   "outputs": [
    {
     "name": "stdout",
     "output_type": "stream",
     "text": [
      "[2, 3]\n",
      "[2, 3, 4]\n",
      "[2, 5, 8]\n",
      "[6]\n"
     ]
    }
   ],
   "source": [
    "# 分片操作\n",
    "list1 = [1,2,3,4,5,6,7,8,9]\n",
    "print(list1[1:3])\n",
    "# 控制片的增长幅度,默认增长幅度为1\n",
    " \n",
    "print(list1[1:4:1])\n",
    "\n",
    "print(list1[1:8:3])\n",
    "# 下标可以超出范围，超出后不在考虑多余下标内容\n",
    "#下标可以为负数，为负表示从右往左\n",
    "#规定：数组最后一个数字的下标是-1\n",
    "#正常情况下，分片左边的值一定小于右边的值\n",
    "#如果分片一定左边值比右边值大，则步长参数需要使用负数\n",
    "\n",
    "print(list1[-4:-2:2])\n",
    "\n",
    "    "
   ]
  },
  {
   "cell_type": "markdown",
   "metadata": {},
   "source": [
    "## 分片操作生成一个新的list\n",
    " - 内置函数id,负责显示一个变量或者数据唯一确定编号"
   ]
  },
  {
   "cell_type": "code",
   "execution_count": 34,
   "metadata": {},
   "outputs": [
    {
     "name": "stdout",
     "output_type": "stream",
     "text": [
      "4404478112\n",
      "4404481312\n",
      "4404478112\n",
      "4404478112\n",
      "111\n",
      "100\n",
      "4440292688\n",
      "4440292688\n",
      "test2\n",
      "test2\n",
      "********************\n",
      "test2\n",
      "test3\n"
     ]
    }
   ],
   "source": [
    "# id 函数举例\n",
    "a = 100\n",
    "b = 200\n",
    "print(id(a))\n",
    "print(id(b))\n",
    "c = a\n",
    "print(id(a))\n",
    "print(id(c))\n",
    "\n",
    "a = 111\n",
    "print(a)\n",
    "print(c)\n",
    "\n",
    "#思考，如果g 和 f 为同一个值，为什么f更改了后,g的值未更改？\n",
    "e = \"test1\"\n",
    "f = \"test2\"\n",
    "g = f\n",
    "print(id(g))\n",
    "print(id(f))\n",
    "\n",
    "print(g)\n",
    "print(f)\n",
    "\n",
    "f = \"test3\"\n",
    "print(\"*\" * 20)\n",
    "\n",
    "print(g)\n",
    "print(f)\n"
   ]
  },
  {
   "cell_type": "code",
   "execution_count": 32,
   "metadata": {},
   "outputs": [
    {
     "name": "stdout",
     "output_type": "stream",
     "text": [
      "4440632136\n",
      "4440632776\n",
      "4440632776\n",
      "[1, 2, 3, 4, 5, 6]\n",
      "[1, 2, 3, 4, 5, 6]\n",
      "[1, 2, 3, 4, 5, 6]\n",
      "[1, 2, 100, 4, 5, 6]\n",
      "[1, 2, 100, 4, 5, 6]\n"
     ]
    }
   ],
   "source": [
    "# 通过id可以直接判断出分片是重新生成了一份数据还是使用的同一份数据\n",
    "\n",
    "list1 = [1,2,3,4,5,6]\n",
    "list2 = list1[:]\n",
    "list3 = list2\n",
    "\n",
    "print(id(list1))\n",
    "print(id(list2))\n",
    "print(id(list3))\n",
    "\n",
    "# 通过id 知道list2和list3为同一份数据\n",
    "\n",
    "print(list1)\n",
    "print(list2)\n",
    "print(list3)\n",
    "\n",
    "list2[2] = 100\n",
    "print(list2)\n",
    "print(list3)\n",
    "\n"
   ]
  },
  {
   "cell_type": "code",
   "execution_count": 77,
   "metadata": {},
   "outputs": [
    {
     "name": "stdout",
     "output_type": "stream",
     "text": [
      "A ---> C\n",
      "A ---> B\n",
      "C ---> B\n",
      "A ---> C\n",
      "B ---> A\n",
      "B ---> C\n",
      "A ---> C\n"
     ]
    }
   ],
   "source": [
    "#汉诺塔\n",
    "def hano(n, a, b, c):\n",
    "    \n",
    "    '''\n",
    "    \n",
    "    \n",
    "    汉诺塔的递归实现\n",
    "    n代表几个盘子\n",
    "    a:代表第一个塔，开始的\n",
    "    b:代表第二个塔，中间的\n",
    "    c:代表第三个塔，目标塔\n",
    "    \n",
    "    '''\n",
    "    \n",
    "    if n == 1:\n",
    "        print(a, \"--->\", c)\n",
    "        return None\n",
    "    \n",
    "    if  n == 2:\n",
    "        print(a, \"--->\", b)\n",
    "        print(a, \"--->\", c)\n",
    "        print(b, \"--->\", c)\n",
    "        return None\n",
    "        \n",
    "    hano(n-1, a, c ,b)\n",
    "    print(a, \"--->\", c)\n",
    "    hano(n-1, b, a, c)\n",
    "\n",
    "        \n",
    "a = \"A\"\n",
    "b = \"B\"\n",
    "c = \"C\"\n",
    "n = 3\n",
    "\n",
    "hano(n, a, b, c)\n",
    "\n",
    "# hano(3, a, b, c)"
   ]
  },
  {
   "cell_type": "code",
   "execution_count": null,
   "metadata": {},
   "outputs": [],
   "source": []
  }
 ],
 "metadata": {
  "kernelspec": {
   "display_name": "Python 3",
   "language": "python",
   "name": "python3"
  },
  "language_info": {
   "codemirror_mode": {
    "name": "ipython",
    "version": 3
   },
   "file_extension": ".py",
   "mimetype": "text/x-python",
   "name": "python",
   "nbconvert_exporter": "python",
   "pygments_lexer": "ipython3",
   "version": "3.7.0"
  }
 },
 "nbformat": 4,
 "nbformat_minor": 2
}
