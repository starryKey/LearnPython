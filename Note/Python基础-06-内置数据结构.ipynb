{
 "cells": [
  {
   "cell_type": "markdown",
   "metadata": {},
   "source": [
    "# 内置数据结构（变量类型）\n",
    " - list\n",
    " - set\n",
    " - dict\n",
    " - tuple\n",
    " \n",
    " \n",
    "## list(列表)\n",
    " - 一组有顺序的数据的组合\n",
    " - 创建列表\n",
    "     - 空列表"
   ]
  },
  {
   "cell_type": "code",
   "execution_count": 5,
   "metadata": {},
   "outputs": [
    {
     "name": "stdout",
     "output_type": "stream",
     "text": [
      "[]\n",
      "<class 'list'>\n",
      "['hello', 'hi']\n",
      "[]\n"
     ]
    }
   ],
   "source": [
    "# list 列表\n",
    "#1、创建空列表\n",
    "l1 = []\n",
    "print(l1)\n",
    "print(type(l1))\n",
    "#2、创建带值的列表\n",
    "l2 = [\"hello\",\"hi\"]\n",
    "print(l2)\n",
    "#3 、使用list()\n",
    "\n",
    "l3 = list()\n",
    "print(l3)"
   ]
  },
  {
   "cell_type": "markdown",
   "metadata": {},
   "source": [
    "## 列表常见操作\n",
    "- 访问\n",
    "    - 使用下标操作(索引)\n",
    "    - 列表的访问是从下标从0开始\n",
    "    - 不能越界访问\n",
    "    \n",
    "- 分片操作\n",
    "     - 对列表进行任意一段的截取\n",
    "     - list1[:] ,包含下标左边的，不包含下标右边的\n",
    "     - 下标值可以为空，如果不写，左边下标值默认为0，右边下标值为最大个数+1，即为最后一个值\n",
    "     - 可以控制片的增长幅度"
   ]
  },
  {
   "cell_type": "code",
   "execution_count": 10,
   "metadata": {},
   "outputs": [
    {
     "name": "stdout",
     "output_type": "stream",
     "text": [
      "[1, 2, 3, 4, 5]\n",
      "3\n"
     ]
    }
   ],
   "source": [
    "# 使用下标访问列表\n",
    "list1 = [1,2,3,4,5]\n",
    "\n",
    "print(list1)\n",
    "print(list1[2])"
   ]
  },
  {
   "cell_type": "code",
   "execution_count": 21,
   "metadata": {},
   "outputs": [
    {
     "name": "stdout",
     "output_type": "stream",
     "text": [
      "[2, 3]\n",
      "[2, 3, 4]\n",
      "[2, 5, 8]\n",
      "[6]\n"
     ]
    }
   ],
   "source": [
    "# 分片操作\n",
    "list1 = [1,2,3,4,5,6,7,8,9]\n",
    "print(list1[1:3])\n",
    "# 控制片的增长幅度,默认增长幅度为1\n",
    " \n",
    "print(list1[1:4:1])\n",
    "\n",
    "print(list1[1:8:3])\n",
    "# 下标可以超出范围，超出后不在考虑多余下标内容\n",
    "#下标可以为负数，为负表示从右往左\n",
    "#规定：数组最后一个数字的下标是-1\n",
    "#正常情况下，分片左边的值一定小于右边的值\n",
    "#如果分片一定左边值比右边值大，则步长参数需要使用负数\n",
    "\n",
    "print(list1[-4:-2:2])\n",
    "\n",
    "    "
   ]
  },
  {
   "cell_type": "markdown",
   "metadata": {},
   "source": [
    "## 分片操作生成一个新的list\n",
    " - 内置函数id,负责显示一个变量或者数据唯一确定编号"
   ]
  },
  {
   "cell_type": "code",
   "execution_count": 34,
   "metadata": {},
   "outputs": [
    {
     "name": "stdout",
     "output_type": "stream",
     "text": [
      "4404478112\n",
      "4404481312\n",
      "4404478112\n",
      "4404478112\n",
      "111\n",
      "100\n",
      "4440292688\n",
      "4440292688\n",
      "test2\n",
      "test2\n",
      "********************\n",
      "test2\n",
      "test3\n"
     ]
    }
   ],
   "source": [
    "# id 函数举例\n",
    "a = 100\n",
    "b = 200\n",
    "print(id(a))\n",
    "print(id(b))\n",
    "c = a\n",
    "print(id(a))\n",
    "print(id(c))\n",
    "\n",
    "a = 111\n",
    "print(a)\n",
    "print(c)\n",
    "\n",
    "#思考，如果g 和 f 为同一个值，为什么f更改了后,g的值未更改？\n",
    "e = \"test1\"\n",
    "f = \"test2\"\n",
    "g = f\n",
    "print(id(g))\n",
    "print(id(f))\n",
    "\n",
    "print(g)\n",
    "print(f)\n",
    "\n",
    "f = \"test3\"\n",
    "print(\"*\" * 20)\n",
    "\n",
    "print(g)\n",
    "print(f)\n"
   ]
  },
  {
   "cell_type": "code",
   "execution_count": 32,
   "metadata": {},
   "outputs": [
    {
     "name": "stdout",
     "output_type": "stream",
     "text": [
      "4440632136\n",
      "4440632776\n",
      "4440632776\n",
      "[1, 2, 3, 4, 5, 6]\n",
      "[1, 2, 3, 4, 5, 6]\n",
      "[1, 2, 3, 4, 5, 6]\n",
      "[1, 2, 100, 4, 5, 6]\n",
      "[1, 2, 100, 4, 5, 6]\n"
     ]
    }
   ],
   "source": [
    "# 通过id可以直接判断出分片是重新生成了一份数据还是使用的同一份数据\n",
    "\n",
    "list1 = [1,2,3,4,5,6]\n",
    "list2 = list1[:]\n",
    "list3 = list2\n",
    "\n",
    "print(id(list1))\n",
    "print(id(list2))\n",
    "print(id(list3))\n",
    "\n",
    "# 通过id 知道list2和list3为同一份数据\n",
    "\n",
    "print(list1)\n",
    "print(list2)\n",
    "print(list3)\n",
    "\n",
    "list2[2] = 100\n",
    "print(list2)\n",
    "print(list3)\n",
    "\n"
   ]
  },
  {
   "cell_type": "code",
   "execution_count": 77,
   "metadata": {},
   "outputs": [
    {
     "name": "stdout",
     "output_type": "stream",
     "text": [
      "A ---> C\n",
      "A ---> B\n",
      "C ---> B\n",
      "A ---> C\n",
      "B ---> A\n",
      "B ---> C\n",
      "A ---> C\n"
     ]
    }
   ],
   "source": [
    "#汉诺塔\n",
    "def hano(n, a, b, c):\n",
    "    \n",
    "    '''\n",
    "    规则：每次挪一个盘子，大盘子必须在小盘子下面\n",
    "    \n",
    "    汉诺塔的递归实现\n",
    "    n代表几个盘子\n",
    "    a:代表第一个塔，开始的\n",
    "    b:代表第二个塔，中间的\n",
    "    c:代表第三个塔，目标塔\n",
    "    \n",
    "    '''\n",
    "    \n",
    "    if n == 1:\n",
    "        print(a, \"--->\", c)\n",
    "        return None\n",
    "    \n",
    "    if  n == 2:\n",
    "        print(a, \"--->\", b)\n",
    "        print(a, \"--->\", c)\n",
    "        print(b, \"--->\", c)\n",
    "        return None\n",
    "        \n",
    "    hano(n-1, a, c ,b)\n",
    "    print(a, \"--->\", c)\n",
    "    hano(n-1, b, a, c)\n",
    "\n",
    "        \n",
    "a = \"A\"\n",
    "b = \"B\"\n",
    "c = \"C\"\n",
    "n = 3\n",
    "\n",
    "hano(n, a, b, c)\n",
    "\n",
    "# hano(3, a, b, c)"
   ]
  },
  {
   "cell_type": "markdown",
   "metadata": {},
   "source": [
    "## List\n",
    " - del：删除命令\n",
    " "
   ]
  },
  {
   "cell_type": "code",
   "execution_count": 84,
   "metadata": {},
   "outputs": [
    {
     "name": "stdout",
     "output_type": "stream",
     "text": [
      "[1, 2, 4, 5, 6]\n",
      "[1, 2, 3, 4, 5, 6]\n",
      "[1, 2, 3, 1, 2, 3, 1, 2, 3]\n",
      "False\n",
      "False\n"
     ]
    }
   ],
   "source": [
    "#del 删除\n",
    "\n",
    "a = [1,2,3,4,5,6]\n",
    "del a[2]\n",
    "print(a)\n",
    "#删除一个变量后，就不能再使用了\n",
    "del a\n",
    "# print(a)\n",
    "\n",
    "#+号，使用+号连接两个列表\n",
    "b = [1,2,3]\n",
    "c = [4,5,6]\n",
    "d = b + c\n",
    "print(d)\n",
    "# * 列表直接使用 * 号直接跟一个整数相乘\n",
    "# 相当于把n个列表接在一起\n",
    "\n",
    "f = b * 3\n",
    "print(f)\n",
    "\n",
    "#成员资格运算\n",
    "# 判断一个元素是否在列表中\n",
    "h = 6\n",
    "\n",
    "j = h in b\n",
    "print(j)\n",
    "\n",
    "# not in\n",
    "\n",
    "k = 3\n",
    "l = k not in b\n",
    "\n",
    "print(l)"
   ]
  },
  {
   "cell_type": "markdown",
   "metadata": {},
   "source": [
    "### 列表的遍历\n",
    " - for\n",
    " - while\n"
   ]
  },
  {
   "cell_type": "code",
   "execution_count": 89,
   "metadata": {},
   "outputs": [
    {
     "name": "stdout",
     "output_type": "stream",
     "text": [
      "1\n",
      "2\n",
      "3\n",
      "4\n",
      "5\n",
      "1\n",
      "3\n",
      "5\n",
      "7\n",
      "9\n"
     ]
    }
   ],
   "source": [
    "# in 后面的变量要求是可迭代的内容\n",
    "a = [1,2,3,4,5]\n",
    "for i in a:\n",
    "    print(i)\n",
    "#while 循环访问list,一般不用while\n",
    "\n",
    "b = [1,3,5,7,9]\n",
    "length = len(b)\n",
    "index = 0\n",
    "while index < length:\n",
    "        print(b[index])\n",
    "        index += 1\n",
    "    \n",
    "\n",
    "\n",
    "    "
   ]
  },
  {
   "cell_type": "code",
   "execution_count": 90,
   "metadata": {},
   "outputs": [
    {
     "name": "stdout",
     "output_type": "stream",
     "text": [
      "one --> 1 --> Hello\n",
      "two --> 2 --> world\n",
      "three --> 3 --> haha\n"
     ]
    }
   ],
   "source": [
    "# 双层列表循环\n",
    "\n",
    "# a为嵌套列表，或者叫双层列表\n",
    "# k v w 的个数应该跟解包出来的变量个数一致\n",
    "a = [[\"one\", 1, \"Hello\"], [\"two\", 2, \"world\"], [\"three\", 3, \"haha\"]]\n",
    "for k, v, w in a:\n",
    "    print(k, \"-->\", v, \"-->\", w)"
   ]
  },
  {
   "cell_type": "markdown",
   "metadata": {},
   "source": [
    "### 列表内含 list content\n",
    " - 通过简单方法创建列表"
   ]
  },
  {
   "cell_type": "code",
   "execution_count": 91,
   "metadata": {},
   "outputs": [
    {
     "name": "stdout",
     "output_type": "stream",
     "text": [
      "['1', '2', '3']\n"
     ]
    }
   ],
   "source": [
    "# for创建\n",
    "a = [\"1\", \"2\", \"3\"]\n",
    "b = [i for i in a]\n",
    "print(b)"
   ]
  },
  {
   "cell_type": "code",
   "execution_count": 93,
   "metadata": {},
   "outputs": [
    {
     "name": "stdout",
     "output_type": "stream",
     "text": [
      "[2, 4, 6, 8, 10]\n"
     ]
    }
   ],
   "source": [
    "a = [1,2,3,4,5]\n",
    "b = [i * 2 for i in a]\n",
    "print(b)"
   ]
  },
  {
   "cell_type": "code",
   "execution_count": 94,
   "metadata": {},
   "outputs": [
    {
     "name": "stdout",
     "output_type": "stream",
     "text": [
      "[2, 4, 6, 8, 10, 12, 14, 16, 18, 20, 22, 24, 26, 28, 30, 32, 34]\n"
     ]
    }
   ],
   "source": [
    "a = [x for x in range(1,35)]\n",
    "#列表生成式可以嵌套\n",
    "b = [m for m in a if m % 2 == 0]\n",
    "print(b)\n"
   ]
  },
  {
   "cell_type": "code",
   "execution_count": 97,
   "metadata": {},
   "outputs": [
    {
     "name": "stdout",
     "output_type": "stream",
     "text": [
      "[1, 2, 3, 4]\n",
      "[10, 20, 30]\n",
      "[11, 21, 31, 12, 22, 32, 13, 23, 33, 14, 24, 34]\n",
      "[11, 21, 12, 22, 13, 23, 14, 24]\n"
     ]
    }
   ],
   "source": [
    "#嵌套\n",
    "a = [i for i in range(1,5)]\n",
    "print(a)\n",
    "b = [i for i in range(10,40) if i % 10 == 0]\n",
    "print(b)\n",
    "\n",
    "c = [m+n for m in a for n in b]\n",
    "print(c)\n",
    "#嵌套列表的生成可以使用条件表达式\n",
    "\n",
    "c = [m+n for m in a for n in b if m+n < 25]\n",
    "print(c)"
   ]
  },
  {
   "cell_type": "markdown",
   "metadata": {},
   "source": [
    "### 关于列表的常用函数"
   ]
  },
  {
   "cell_type": "code",
   "execution_count": 100,
   "metadata": {},
   "outputs": [
    {
     "name": "stdout",
     "output_type": "stream",
     "text": [
      "19\n",
      "19\n",
      "lll\n"
     ]
    }
   ],
   "source": [
    "#  len：求列表长度\n",
    "a = [x for x in range(1,20)]\n",
    "print(len(a))\n",
    "\n",
    "# max：求列表中的最大值\n",
    "print(max(a))\n",
    "\n",
    "b = [\"hh\", \"lll\", \"ddddd\"]\n",
    "print(max(b))\n",
    "\n"
   ]
  },
  {
   "cell_type": "code",
   "execution_count": 105,
   "metadata": {},
   "outputs": [
    {
     "name": "stdout",
     "output_type": "stream",
     "text": [
      "[1, 2, 3]\n",
      "['h', 'e', 'l', 'l', 'o', ' ', 'w', 'o', 'r', 'l', 'd']\n"
     ]
    }
   ],
   "source": [
    "# list 将其他格式的数据转换成list\n",
    "\n",
    "# list(必须为可迭代的值)\n",
    "a = [1, 2, 3]\n",
    "print(list(a))\n",
    "\n",
    "s = \"hello world\"\n",
    "print(list(s))"
   ]
  },
  {
   "cell_type": "code",
   "execution_count": 106,
   "metadata": {},
   "outputs": [
    {
     "name": "stdout",
     "output_type": "stream",
     "text": [
      "[1, 2, 3, 4, 5, 6, 7, 8, 9]\n"
     ]
    }
   ],
   "source": [
    "# 把range产生的内容转换为list\n",
    "print(list(range(1,10)))"
   ]
  },
  {
   "cell_type": "markdown",
   "metadata": {},
   "source": [
    "## 关于列表的函数\n"
   ]
  },
  {
   "cell_type": "code",
   "execution_count": 2,
   "metadata": {},
   "outputs": [
    {
     "name": "stdout",
     "output_type": "stream",
     "text": [
      "['a', 1, 'hello', 100, 26]\n"
     ]
    }
   ],
   "source": [
    "## python中没有数组的概念，数组中存的是同一类型的数据。\n",
    "\n",
    "list = ['a', 1, \"hello\", 100, 10+16]\n",
    "print(list)"
   ]
  },
  {
   "cell_type": "code",
   "execution_count": 20,
   "metadata": {},
   "outputs": [
    {
     "name": "stdout",
     "output_type": "stream",
     "text": [
      "[1, 2, 3, 4, 5]\n",
      "[1, 2, 3, 4, 5, 20]\n",
      "[1, 2, 3, 100, 4, 5, 20]\n",
      "[1, 2, 3, 4, 5]\n",
      "5\n",
      "[1, 2, 3, 4]\n",
      "[2, 3, 4]\n",
      "[]\n",
      "H =[1, 2, 3, 4, 5], id: 4343086792\n",
      "H = [5, 4, 3, 2, 1], id:4343086792\n",
      "K = [2, 4, 6, 2, 8, 2]\n",
      "3\n",
      "4\n"
     ]
    }
   ],
   "source": [
    "# append插入一个内容，在末尾追加\n",
    "a = [i for i in range(1,6)]\n",
    "print(a)\n",
    "\n",
    "a.append(20)\n",
    "print(a)\n",
    "\n",
    "# insert    在指定位置插入\n",
    "a.insert(3, 100)\n",
    "print(a)\n",
    "\n",
    "# del 删除\n",
    "# pop 从队尾把拿出一个元素，即把最后一个元素取出\n",
    "#可通过id()去判断操作后的list是跟以前是同一个，还是新生成的list\n",
    "\n",
    "\n",
    "b = [1,2,3,4,5]\n",
    "print(b)\n",
    "c = b.pop()\n",
    "print(c)\n",
    "print(b)\n",
    "\n",
    "#remove: 在列表中删除指定的值的元素\n",
    "#mark :想要删除这个值，前提是存在这个值\n",
    "# if x in list:\n",
    "#     list.remove(x)\n",
    "# 也可使用 try ....except语句\n",
    "\n",
    "b.remove(1)\n",
    "print(b)\n",
    "\n",
    "#clear  清空\n",
    "b.clear()\n",
    "print(b)\n",
    "\n",
    "# reverse:翻转\n",
    "\n",
    "h = [1,2,3,4,5]\n",
    "print(\"H ={0}, id: {1}\".format(h, id(h)))\n",
    "h.reverse()\n",
    "print(\"H = {0}, id:{1}\".format(h, id(h)))\n",
    "\n",
    "# count 查找列表中指定值或元素的个数\n",
    "\n",
    "k = [2,4,6,2,8,2]\n",
    "print(\"K = {0}\".format(k))\n",
    "k_len = k.count(2)\n",
    "print(k_len)\n",
    "k.append(2)\n",
    "k_len = k.count(2)\n",
    "print(k_len)"
   ]
  },
  {
   "cell_type": "code",
   "execution_count": 22,
   "metadata": {},
   "outputs": [
    {
     "name": "stdout",
     "output_type": "stream",
     "text": [
      "[1, 2, 3, 4, 5]\n",
      " a = [1, 2, 3, 66, 5], id = 4341612040\n",
      " b = [1, 2, 3, 66, 5], id = 4341612040\n",
      " *  *  *  *  *  *  *  *  *  *  *  *  *  *  *  *  *  *  *  * \n",
      " a = [1, 2, 3, 66, 5], id = 4341612040\n",
      " b = [1, 2, 3, 66, 5], id = 4341642248\n",
      " *  *  *  *  *  *  *  *  *  *  *  *  *  *  *  *  *  *  *  * \n",
      " a = [1, 2, 3, 66, 5], id = 4341612040\n",
      " b = [1, 2, 3, 66, 100], id = 4341642248\n"
     ]
    }
   ],
   "source": [
    "# copy 拷贝,浅拷贝\n",
    "a = [1,2,3,4,5]\n",
    "print(a)\n",
    "b = a\n",
    "b[3]= 66\n",
    "print(\" a = {0}, id = {1}\".format(a, id(a)))\n",
    "\n",
    "print(\" b = {0}, id = {1}\".format(b, id(b)))\n",
    "print(\" * \" * 20)\n",
    "# 为了解决以上问题\n",
    "\n",
    "b = a.copy()\n",
    "\n",
    "print(\" a = {0}, id = {1}\".format(a, id(a)))\n",
    "\n",
    "print(\" b = {0}, id = {1}\".format(b, id(b)))\n",
    "\n",
    "print(\" * \" * 20)\n",
    "b[4] = 100\n",
    "print(\" a = {0}, id = {1}\".format(a, id(a)))\n",
    "\n",
    "print(\" b = {0}, id = {1}\".format(b, id(b)))\n"
   ]
  },
  {
   "cell_type": "code",
   "execution_count": 24,
   "metadata": {},
   "outputs": [
    {
     "name": "stdout",
     "output_type": "stream",
     "text": [
      "4342961928\n",
      "4341591368\n",
      "4342256584\n",
      "4342256584\n"
     ]
    }
   ],
   "source": [
    "# 深拷贝和浅拷贝的区别\n",
    "a = [1, 2, 3, [10, 20, 30]]\n",
    "b = a.copy()\n",
    "print(id(a))\n",
    "print(id(b))\n",
    "\n",
    "# list中的list居然是同一个\n",
    "#原因在于浅拷贝，copy函数是一个浅拷贝函数，即只拷贝一层内容\n",
    "# 深拷贝需要使用特殊工具\n",
    "print(id(a[3]))\n",
    "print(id(b[3]))\n",
    "\n"
   ]
  },
  {
   "cell_type": "markdown",
   "metadata": {},
   "source": [
    "## 元组-tuple\n",
    " - 元组可以看作是一个不可更改的list\n",
    "### 元组创建"
   ]
  },
  {
   "cell_type": "code",
   "execution_count": 30,
   "metadata": {},
   "outputs": [
    {
     "name": "stdout",
     "output_type": "stream",
     "text": [
      "<class 'tuple'>\n",
      "<class 'tuple'>\n",
      "<class 'tuple'>\n",
      "<class 'tuple'>\n",
      "(1, 2, 3, 4)\n",
      "<class 'tuple'>\n"
     ]
    }
   ],
   "source": [
    "#  创建空元组\n",
    "t = ()\n",
    "print(type(t))\n",
    "# 创建一个只有一个值的元组t\n",
    "k = (1, )\n",
    "print(type(k))\n",
    "#创建多个值的元组\n",
    "h = (1, 2, \"hello\")\n",
    "print(type(h))\n",
    "\n",
    "f = 1,2,3,4,\"hh\"\n",
    "print(type(f))\n",
    "\n",
    "# 使用其他结构创建\n",
    "list = [1,2,3,4]\n",
    "tu = tuple(list)\n",
    "print(tu)\n",
    "print(type(tu))"
   ]
  },
  {
   "cell_type": "markdown",
   "metadata": {},
   "source": [
    "### 元组的特性\n",
    " - 序列表，有序\n",
    " - 元组数据值可以访问，不能修改\n",
    " - 元组数据可以是任意类型\n",
    " - 总之，list所有的特性，除了可修改性，元组都具有\n",
    " - 意味着，list具有的一些操作，比如，索引，分片，序列相加， 相乘，成员资格操作等，一模一样\n",
    " \n"
   ]
  },
  {
   "cell_type": "code",
   "execution_count": 37,
   "metadata": {},
   "outputs": [
    {
     "name": "stdout",
     "output_type": "stream",
     "text": [
      "2\n",
      "(1, 2, 3, 4, 5, 6, 7, 8)\n",
      "(2, 4, 6, 8)\n",
      "(6, 8)\n",
      "(1, 2, 3)\n",
      "(4, 5, 6)\n",
      "4343711856\n",
      "(1, 2, 3, 4, 5, 6)\n",
      "4321874568\n"
     ]
    }
   ],
   "source": [
    "#索引操作\n",
    "t = (1,2,3,4)\n",
    "print(t[1])\n",
    "# 越界错误❌\n",
    "# print(t[10])\n",
    "\n",
    "\n",
    "#切片可以超标\n",
    "a1 = (1,2,3,4,5,6,7,8)\n",
    "a2 = a1[1::2]\n",
    "print(a1)\n",
    "print(a2)\n",
    "\n",
    "print(a2[2:10])\n",
    "\n",
    "#序列相加\n",
    "t1 = (1,2,3)\n",
    "t2 = (4,5,6)\n",
    "#tuple的不能修改指的是内容的修改，修改内容会导致报错\n",
    "\n",
    "print(t1)\n",
    "print(t2)\n",
    "print(id(t1))\n",
    "#传址操作\n",
    "t1 = t1 + t2\n",
    "print(t1)\n",
    "print(id(t1))\n",
    "\n"
   ]
  },
  {
   "cell_type": "code",
   "execution_count": 38,
   "metadata": {},
   "outputs": [
    {
     "name": "stdout",
     "output_type": "stream",
     "text": [
      "(1, 2, 3, 1, 2, 3, 1, 2, 3)\n"
     ]
    }
   ],
   "source": [
    "#相相乘\n",
    "\n",
    "t = (1,2,3)\n",
    "print(3 * t)"
   ]
  },
  {
   "cell_type": "code",
   "execution_count": 39,
   "metadata": {},
   "outputs": [
    {
     "name": "stdout",
     "output_type": "stream",
     "text": [
      "Yes\n"
     ]
    }
   ],
   "source": [
    "# 成员检测\n",
    "t = (1,2,3,4)\n",
    "if 2 in t:\n",
    "    print(\"Yes\")\n",
    "else:\n",
    "    print(\"NO\")"
   ]
  },
  {
   "cell_type": "code",
   "execution_count": 42,
   "metadata": {},
   "outputs": [
    {
     "name": "stdout",
     "output_type": "stream",
     "text": [
      "1 2 3 hello world hahah "
     ]
    }
   ],
   "source": [
    "#元组遍历\n",
    "#单层\n",
    "t = (1,2,3,\"hello\",\"world\",\"hahah\")\n",
    "for i in t:\n",
    "    print(i, end = \" \")\n",
    "    "
   ]
  },
  {
   "cell_type": "code",
   "execution_count": 45,
   "metadata": {},
   "outputs": [
    {
     "name": "stdout",
     "output_type": "stream",
     "text": [
      "(1, 2, 3)\n",
      "(4, 5, 6)\n",
      "('hello', 'world')\n",
      "1 -- 2 -- 3\n",
      "4 -- 5 -- 6\n",
      "hello -- world -- hhh\n"
     ]
    }
   ],
   "source": [
    "#双层\n",
    "t = ((1,2,3),(4,5,6),(\"hello\",\"world\"))\n",
    "for i in t:\n",
    "    print(i)\n",
    "t2 = ((1,2,3),(4,5,6),(\"hello\",\"world\",\"hhh\"))\n",
    "\n",
    "for k,v,m in t2:\n",
    "    print(k,\"--\",v,\"--\", m)"
   ]
  },
  {
   "cell_type": "code",
   "execution_count": null,
   "metadata": {},
   "outputs": [],
   "source": []
  }
 ],
 "metadata": {
  "kernelspec": {
   "display_name": "Python 3",
   "language": "python",
   "name": "python3"
  },
  "language_info": {
   "codemirror_mode": {
    "name": "ipython",
    "version": 3
   },
   "file_extension": ".py",
   "mimetype": "text/x-python",
   "name": "python",
   "nbconvert_exporter": "python",
   "pygments_lexer": "ipython3",
   "version": "3.7.0"
  }
 },
 "nbformat": 4,
 "nbformat_minor": 2
}
