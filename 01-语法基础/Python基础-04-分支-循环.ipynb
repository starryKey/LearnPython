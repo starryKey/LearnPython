{
 "cells": [
  {
   "cell_type": "markdown",
   "metadata": {},
   "source": [
    "# 程序结构\n",
    " - 顺序\n",
    " - 分支\n",
    " - 循环\n",
    " \n",
    "## 顺序\n",
    "\n",
    "## 循环\n",
    "\n",
    "## 分支\n",
    "\n",
    "### 单向分支\n",
    "   - 分支的基本语法\n",
    "     - if 条件表达式：\n",
    "         语句1\n",
    "         语句2\n",
    "         ......\n",
    "     - 表达式后面的冒号不能少\n",
    "     - 条件表达式就是计算结果位Bool值的表达式\n",
    "     - 条件表达式结果为True执行if后面的语句块，否则执行与if缩近平齐的语句块\n",
    "     - 注意if后面出现的语句，如果属于if语句块，责必须同一个缩进等级\n",
    "     \n",
    "### 双向分支\n",
    " - if...else...语句\n",
    "     if 条件表达式:\n",
    "         语句1\n",
    "         语句2\n",
    "         .......\n",
    "      else：\n",
    "          语句1\n",
    "          语句2\n",
    "          .....\n",
    " - 缩进问题，if和else属于一个层级，其他语句一个层级"
   ]
  },
  {
   "cell_type": "code",
   "execution_count": null,
   "metadata": {},
   "outputs": [],
   "source": [
    "#分支 单向分支\n",
    "age = 17\n",
    "if  age > 18 :\n",
    "    print(\"成年了\")\n",
    "print(\"未成年\")"
   ]
  },
  {
   "cell_type": "code",
   "execution_count": 18,
   "metadata": {},
   "outputs": [
    {
     "name": "stdout",
     "output_type": "stream",
     "text": [
      "请输入你的名字:jane\n",
      "输入的名称是: jane\n",
      "请输入你的年龄:90\n",
      "年龄是 90\n"
     ]
    }
   ],
   "source": [
    "# 双向分支\n",
    "# input的作用\n",
    "##1、在屏幕上输出括号内的字符串\n",
    "##2、接受用户输入的内容并返回到程序来\n",
    "##3、input返回的内容一定是字符串类型\n",
    "name = input(\"请输入你的名字:\")\n",
    "print(\"输入的名称是: {0}\".format(name))\n",
    "age = input(\"请输入你的年龄:\")\n",
    "testage = \"年龄是 %s\"\n",
    "print(testage%age)"
   ]
  },
  {
   "cell_type": "code",
   "execution_count": null,
   "metadata": {},
   "outputs": [],
   "source": [
    "score = input(\"请输入考试成绩 \")\n",
    "print(\"成绩是:{0}\".format(score))\n",
    "score = int(score)\n",
    "if  score >= 90:\n",
    "    print(\"优\")\n",
    "if score >= 80 and score < 90:\n",
    "    print(\"中\")\n",
    "if score >= 60 and score < 80:\n",
    "    print(\"一般\")\n",
    "if score < 60:\n",
    "    print(\"不及格\")\n"
   ]
  },
  {
   "cell_type": "code",
   "execution_count": null,
   "metadata": {},
   "outputs": [],
   "source": []
  },
  {
   "cell_type": "markdown",
   "metadata": {},
   "source": [
    " ### 多路分支\n",
    "  - 很多路分支的情况下，简称多路分支\n",
    "      \n",
    "          if  条件表达式：\n",
    "              语句1\n",
    "              ......\n",
    "          elif 条件表达式:\n",
    "              语句1\n",
    "              .......\n",
    "          else\n",
    "              语句1\n",
    "              ......."
   ]
  },
  {
   "cell_type": "code",
   "execution_count": 18,
   "metadata": {},
   "outputs": [
    {
     "name": "stdout",
     "output_type": "stream",
     "text": [
      "请输入考试成绩 56\n",
      "成绩是:56\n",
      "不及格\n"
     ]
    }
   ],
   "source": [
    "#多路分支\n",
    "\n",
    "score = input(\"请输入考试成绩 \")\n",
    "print(\"成绩是:{0}\".format(score))\n",
    "score = int(score)\n",
    "if  score >= 90:\n",
    "    print(\"优\")\n",
    "elif score >= 80:\n",
    "    print(\"中\")\n",
    "elif score >= 60:\n",
    "    print(\"一般\")\n",
    "else:\n",
    "    print(\"不及格\")\n"
   ]
  },
  {
   "cell_type": "markdown",
   "metadata": {},
   "source": [
    "## if 语句其他\n",
    " - if 语句可以嵌套使用，但不推荐\n",
    " - python中没有switch case语句"
   ]
  },
  {
   "cell_type": "markdown",
   "metadata": {},
   "source": [
    "# 循环语句\n",
    " - 重复执行某些固定的动作\n",
    " - 分类\n",
    "     - for循环\n",
    "     - while循环\n",
    "## for循环\n",
    " - for循环\n",
    "         \n",
    "         for 变量  in: 序列\n",
    "               语句\n",
    "               ......\n",
    "## While循环\n",
    "\n",
    " - while循环，一个循环语句，表示当条件成立时，就循环\n",
    " - 不知道具体的执行次数，\n",
    "             \n",
    "           while  条件表达式：\n",
    "                    语句\n",
    "            #另外一种表示形式\n",
    "            \n",
    "                while 条件表达式：\n",
    "                        语句1\n",
    "                 else:\n",
    "                         语句2\n",
    "         "
   ]
  },
  {
   "cell_type": "code",
   "execution_count": 9,
   "metadata": {},
   "outputs": [
    {
     "name": "stdout",
     "output_type": "stream",
     "text": [
      "Tom\n",
      "Jack\n",
      "找到了Jack\n",
      "Jane\n",
      "John\n"
     ]
    }
   ],
   "source": [
    "## for循环示例\n",
    "name = [\"Tom\",\"Jack\",\"Jane\",\"John\"]\n",
    "for stuName in name:\n",
    "    print(stuName)\n",
    "    if stuName == \"Jack\":\n",
    "        print(\"找到了Jack\")"
   ]
  },
  {
   "cell_type": "code",
   "execution_count": 13,
   "metadata": {},
   "outputs": [
    {
     "name": "stdout",
     "output_type": "stream",
     "text": [
      "101\n",
      "102\n",
      "103\n",
      "104\n",
      "105\n",
      "106\n",
      "nCount不小于106了\n"
     ]
    }
   ],
   "source": [
    "##while循环示例\n",
    "nCount = 100\n",
    "while nCount < 106:\n",
    "        nCount = nCount + 1\n",
    "        print(nCount)\n",
    "else:\n",
    "    print(\"nCount不小于106了\")\n"
   ]
  },
  {
   "cell_type": "code",
   "execution_count": null,
   "metadata": {},
   "outputs": [],
   "source": []
  },
  {
   "cell_type": "markdown",
   "metadata": {},
   "source": [
    "## range\n",
    "- 生成一个数字序列\n",
    "- 具体范围可设定\n"
   ]
  },
  {
   "cell_type": "code",
   "execution_count": 24,
   "metadata": {},
   "outputs": [
    {
     "name": "stdout",
     "output_type": "stream",
     "text": [
      "1\n",
      "2\n",
      "3\n",
      "4\n",
      "5\n"
     ]
    }
   ],
   "source": [
    "#注意 一般在python中，如果是表示数字的范围，一般包含左边数字不包含右边数字\n",
    "for i in range(1,6):\n",
    "    print(i)"
   ]
  },
  {
   "cell_type": "markdown",
   "metadata": {},
   "source": [
    "## for-else 语句\n",
    " - 当for执行结束的时候，会执行else语句\n",
    " - else语句是可选语句\n",
    " "
   ]
  },
  {
   "cell_type": "code",
   "execution_count": 26,
   "metadata": {},
   "outputs": [
    {
     "name": "stdout",
     "output_type": "stream",
     "text": [
      "Tom\n",
      "Jack\n",
      "找到了Jack\n",
      "Jane\n",
      "John\n",
      "执行结束了\n"
     ]
    }
   ],
   "source": [
    "name = [\"Tom\",\"Jack\",\"Jane\",\"John\"]\n",
    "for stuName in name:\n",
    "    print(stuName)\n",
    "    if stuName == \"Jack\":\n",
    "        print(\"找到了Jack\")\n",
    "else:\n",
    "    print(\"执行结束了\")"
   ]
  },
  {
   "cell_type": "markdown",
   "metadata": {},
   "source": [
    "## for循环之break，continue，pass\n",
    " - break，无条件结束整个循环\n",
    " - continue，无条件结束本次循环，重新进入下一轮循环\n",
    " - pass 表示通过\n",
    "     - 一般用于占位\n",
    " "
   ]
  },
  {
   "cell_type": "code",
   "execution_count": 42,
   "metadata": {},
   "outputs": [
    {
     "name": "stdout",
     "output_type": "stream",
     "text": [
      "2\n",
      "4\n",
      "6\n",
      "8\n",
      "找到了\n"
     ]
    }
   ],
   "source": [
    "for i in range(1,20):\n",
    "    if i % 2 == 1:\n",
    "        continue\n",
    "    if i == 10:\n",
    "        print(\"找到了\")\n",
    "        break\n",
    "    else:\n",
    "        print(i)"
   ]
  },
  {
   "cell_type": "code",
   "execution_count": 44,
   "metadata": {},
   "outputs": [
    {
     "name": "stdout",
     "output_type": "stream",
     "text": [
      "1\n",
      "2\n",
      "3\n",
      "4\n",
      "5\n",
      "6\n",
      "7\n",
      "8\n",
      "9\n",
      "10\n",
      "11\n",
      "12\n",
      "13\n",
      "14\n",
      "15\n",
      "16\n",
      "17\n",
      "18\n",
      "19\n"
     ]
    }
   ],
   "source": [
    "for i in range(1,20):\n",
    "    pass\n",
    "    print(i)"
   ]
  },
  {
   "cell_type": "code",
   "execution_count": null,
   "metadata": {},
   "outputs": [],
   "source": []
  }
 ],
 "metadata": {
  "kernelspec": {
   "display_name": "Python 3",
   "language": "python",
   "name": "python3"
  },
  "language_info": {
   "codemirror_mode": {
    "name": "ipython",
    "version": 3
   },
   "file_extension": ".py",
   "mimetype": "text/x-python",
   "name": "python",
   "nbconvert_exporter": "python",
   "pygments_lexer": "ipython3",
   "version": "3.7.0"
  }
 },
 "nbformat": 4,
 "nbformat_minor": 2
}
